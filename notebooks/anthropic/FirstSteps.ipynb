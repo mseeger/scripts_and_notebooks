{
 "cells": [
  {
   "cell_type": "markdown",
   "id": "7f70c2ec-c72e-4854-8987-266ef7db1c70",
   "metadata": {},
   "source": [
    "# First Steps with Anthropic API\n",
    "\n",
    "Copy a `.env` file to this directory, containing your Anthropic API key as `ANTHROPIC_API_KEY`"
   ]
  },
  {
   "cell_type": "code",
   "execution_count": null,
   "id": "005b82d5-df32-4d5f-ad48-46ba90be9b43",
   "metadata": {},
   "outputs": [],
   "source": [
    "from dotenv import load_dotenv\n",
    "from anthropic import Anthropic"
   ]
  },
  {
   "cell_type": "code",
   "execution_count": null,
   "id": "11101628-7cf3-4b49-ad57-15b2c6b82a20",
   "metadata": {},
   "outputs": [],
   "source": [
    "model = \"claude-3-5-haiku-20241022\"\n",
    "\n",
    "load_dotenv()\n",
    "client = Anthropic()"
   ]
  },
  {
   "cell_type": "markdown",
   "id": "7ec8370c-d884-4222-9602-6ed20ecc99c0",
   "metadata": {},
   "source": [
    "## Hello World\n",
    "\n",
    "Just playing with some simple stuff"
   ]
  },
  {
   "cell_type": "code",
   "execution_count": null,
   "id": "442b2575-e062-4190-a98e-f0962daf623c",
   "metadata": {},
   "outputs": [],
   "source": [
    "system_prompt = \"You are a financial advisor. Being paid a fixed rate, you answer in the best interest of your client\"\n",
    "\n",
    "task = \"\"\"\n",
    "I am 30 years old, and expect to retire in 35 years.\n",
    "I currently earn $5000 net per month, of which I can afford to save $600.\n",
    "What investment portfolio should I use in order to best save money for my retirement?\n",
    "When and how often should I restructure the portfolio in the next 35 years?\n",
    "\"\"\"\n",
    "\n",
    "message = client.messages.create(\n",
    "    model=model,\n",
    "    max_tokens=1000,\n",
    "    system=system_prompt,\n",
    "    messages=[\n",
    "        {\"role\": \"user\", \"content\": task}\n",
    "    ]\n",
    ")"
   ]
  },
  {
   "cell_type": "code",
   "execution_count": null,
   "id": "4bad0a7c-0e39-4224-955a-c09d8df5d982",
   "metadata": {},
   "outputs": [],
   "source": []
  }
 ],
 "metadata": {
  "kernelspec": {
   "display_name": "Python 3 (ipykernel)",
   "language": "python",
   "name": "python3"
  },
  "language_info": {
   "codemirror_mode": {
    "name": "ipython",
    "version": 3
   },
   "file_extension": ".py",
   "mimetype": "text/x-python",
   "name": "python",
   "nbconvert_exporter": "python",
   "pygments_lexer": "ipython3",
   "version": "3.13.0"
  }
 },
 "nbformat": 4,
 "nbformat_minor": 5
}
