{
 "cells": [
  {
   "cell_type": "markdown",
   "id": "1efb007b-23db-466e-8114-d88895ca3b53",
   "metadata": {},
   "source": [
    "# Notes from DataQuest Courses\n",
    "\n",
    "This is mostly for non-Python topics."
   ]
  },
  {
   "cell_type": "markdown",
   "id": "3baf9f48-0e2f-45fe-879c-91f88e9c23a0",
   "metadata": {},
   "source": [
    "## Useful Shell Commands"
   ]
  },
  {
   "cell_type": "markdown",
   "id": "6836de60-74ec-44aa-a5b0-e9826b37f907",
   "metadata": {},
   "source": [
    "`column -t -s\",\" file.csv`\n",
    "\n",
    "Pretty-prints CSV file `file.csv` as table, using the column separator `\",\"`"
   ]
  },
  {
   "cell_type": "markdown",
   "id": "e28db123-90f2-4a5e-88ba-ac0c37d51d8d",
   "metadata": {},
   "source": [
    "`shuf -n 10 file.csv`\n",
    "\n",
    "Samples 10 lines at random from `file.csv` (without replacement) and prints them."
   ]
  },
  {
   "cell_type": "markdown",
   "id": "b079ba56-3982-4469-be37-d66500027b23",
   "metadata": {},
   "source": [
    "`cat *.csv`\n",
    "\n",
    "Concatenate and output the content of all CSV files in the current directory. Can be piped into a new CSV file."
   ]
  },
  {
   "cell_type": "markdown",
   "id": "81d24fc2-698e-4b7c-9731-92aa923b412c",
   "metadata": {},
   "source": [
    "`cut -d\",\" -f1,3-5,8,12`\n",
    "\n",
    "Selects and outputs columns 1, 3, 4, 5, 8, 12 (starting from 1), given that the column separator is `\",\"`. Useful to select certain columns from a data file.\n",
    "\n",
    "**Note**: `cut` cannot change the ordering of columns. The list behind `-f` must be increasing.\n",
    "\n",
    "**Note**: `cut` also displays rows which do not contain the separator, unless the `-s` option is used."
   ]
  },
  {
   "cell_type": "markdown",
   "id": "36c395b6-f984-4ed8-9c5f-feafecd9eda0",
   "metadata": {},
   "source": [
    "`tail -n+2 file.csv`\n",
    "\n",
    "Display all rows except for the first one (i.e., starting from 2nd). This is useful to remove the column header line of a CSV file."
   ]
  },
  {
   "cell_type": "markdown",
   "id": "b7da1a9c-0721-4441-b4a4-34990ff616d7",
   "metadata": {},
   "source": [
    "## Sorting Files in the Shell\n",
    "\n",
    "This is done with the `sort` command."
   ]
  },
  {
   "cell_type": "markdown",
   "id": "39f118fc-eb5b-4f7c-8f50-d9404b12baae",
   "metadata": {},
   "source": [
    "`sort file.csv`\n",
    "\n",
    "Sort lines of `file.csv` in lexicographic order (ascending). Use `-r` for reverse order (descending). Use `-u` in order to remove duplicate lines."
   ]
  },
  {
   "cell_type": "markdown",
   "id": "5d7e5a59-7cee-4434-ae4a-94b1ce1d50a2",
   "metadata": {},
   "source": [
    "`sort -u *.csv`\n",
    "\n",
    "Concatenate all CSV files in the current directory, sort rows, and remove all duplicates."
   ]
  },
  {
   "cell_type": "markdown",
   "id": "76dafb4e-d784-4292-8e86-cfa52ea85922",
   "metadata": {},
   "source": [
    "For a CSV file, we can specify the sort order column by column. Examples:\n",
    "\n",
    "`sort -t\",\" -k2,2gr -k4,4g example_data_no_header.csv`\n",
    "\n",
    "The column separator is `\",\"`. Sort by 2nd column first in reverse order and taken as numerical, then by numerical 4th column in normal order. Here, `g` switches from lexicographic to comparison between numbers.\n",
    "\n",
    "In fact, `-k` can be a range of columns, for example `-k4,5` uses the concatenation of 4th and 5th column."
   ]
  },
  {
   "cell_type": "markdown",
   "id": "7a971530-4cf4-4c87-b6eb-a8462d1c2f82",
   "metadata": {},
   "source": [
    "## Pipelining and Redirection"
   ]
  },
  {
   "cell_type": "markdown",
   "id": "8b9dd876-7e69-450b-84b1-804e5dfa79e9",
   "metadata": {},
   "source": [
    "* Use `>filename` to write the output (stdout) into file `filename`, overwriting the previous content (if any)\n",
    "* Use `>>filename` to append the output (stdout) to file `filename`\n",
    "* Use `2>filename` to write error output (stderr) into file `filename`, overwriting the previous content (if any)"
   ]
  },
  {
   "cell_type": "markdown",
   "id": "c38c144f-3233-488f-8e9c-698917ca8308",
   "metadata": {},
   "source": [
    "Examples for pipelining:\n",
    "\n",
    "`ls -l /bin | tail -n+2 | wc -l`\n",
    "\n",
    "Count files listed by `ls -l /bin`. The `tail` command removes the first line of the `ls` output.\n",
    "\n",
    "`ls -l /bin | grep \"^d\" | wc -l`\n",
    "\n",
    "Counts the number of directories listed by `ls -l /bin`."
   ]
  },
  {
   "cell_type": "markdown",
   "id": "6a06b11d-276c-4c45-abf2-3c5a68b120cf",
   "metadata": {},
   "source": [
    "Streams are typically numbered 0 (stdin), 1 (stdout), 2 (stderr). This is why `2>` redirects `stderr` to a file. Note that `>` is short for `1>`.\n",
    "\n",
    "`command >filename 2>&1`\n",
    "\n",
    "Redirects both `stdout` and `stderr` to the same file `filename`. This works by copying the file descriptor 1 to 2. Note that the order matters here:\n",
    "\n",
    "`command 2>&1 >filename`\n",
    "\n",
    "does the same as `command >filename`. Namely, both 1 and 2 are initially directed to the shell, so `2>&1` does nothing. In the example above, file descriptor was first changed to `filename`, before this is copied to 2 as well."
   ]
  },
  {
   "cell_type": "code",
   "execution_count": null,
   "id": "59101616-c430-45fb-8da3-f03ec4729717",
   "metadata": {},
   "outputs": [],
   "source": []
  }
 ],
 "metadata": {
  "kernelspec": {
   "display_name": "Python 3 (ipykernel)",
   "language": "python",
   "name": "python3"
  },
  "language_info": {
   "codemirror_mode": {
    "name": "ipython",
    "version": 3
   },
   "file_extension": ".py",
   "mimetype": "text/x-python",
   "name": "python",
   "nbconvert_exporter": "python",
   "pygments_lexer": "ipython3",
   "version": "3.9.13"
  }
 },
 "nbformat": 4,
 "nbformat_minor": 5
}
