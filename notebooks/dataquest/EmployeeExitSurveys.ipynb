{
 "cells": [
  {
   "cell_type": "markdown",
   "id": "d3f0770a-175e-4cd2-91ec-9dc13237b6b2",
   "metadata": {},
   "source": [
    "# Clean and Analyze Employee Exit Surveys\n",
    "\n",
    "Corresponds to DataQuest guided project."
   ]
  },
  {
   "cell_type": "markdown",
   "id": "f23ca8ab-99ab-4962-9c1e-0e1abdb912cc",
   "metadata": {},
   "source": [
    "For this project, we are given two exit surveys, from employees of the Department of Education, Training and Employment (DETE) and the Technical and Further Education (TAFE) institute in Queensland, Australia, respectively. Our stakeholders want to know the following:\n",
    "\n",
    "* Are employees who only worked for the institutes for a short period of time resigning due to some kind of dissatisfaction? What about employees who have been there longer?\n",
    "* Are younger employees resigning due to some kind of dissatisfaction? What about older employees?\n",
    "\n",
    "We are supposed to combine the results for both surveys to answer these questions. However, although both used the same survey template, one of them customized some of the answers. Bringing the two datasets together requires some data cleaning first."
   ]
  },
  {
   "cell_type": "code",
   "execution_count": 1,
   "id": "3a530767-e153-40c5-b672-baaecbcefb12",
   "metadata": {},
   "outputs": [],
   "source": [
    "%matplotlib inline\n",
    "\n",
    "import pandas as pd\n",
    "import numpy as np\n",
    "import matplotlib.pyplot as plt\n",
    "import matplotlib.style as style\n",
    "import seaborn as sns\n",
    "from pathlib import Path"
   ]
  },
  {
   "cell_type": "code",
   "execution_count": 2,
   "id": "562ded7a-70a5-4b16-a728-9a1e5b9f8e9e",
   "metadata": {},
   "outputs": [],
   "source": [
    "data_path = Path.home() / \"datasets\" / \"tabular_practice\"\n",
    "\n",
    "dete_survey = pd.read_csv(data_path / \"dete_survey.csv\")\n",
    "tafe_survey = pd.read_csv(data_path / \"tafe_survey.csv\")"
   ]
  },
  {
   "cell_type": "code",
   "execution_count": 3,
   "id": "c67b0637-d3e5-4657-ac89-2a517f028123",
   "metadata": {},
   "outputs": [
    {
     "name": "stdout",
     "output_type": "stream",
     "text": [
      "<class 'pandas.core.frame.DataFrame'>\n",
      "RangeIndex: 822 entries, 0 to 821\n",
      "Data columns (total 56 columns):\n",
      " #   Column                               Non-Null Count  Dtype \n",
      "---  ------                               --------------  ----- \n",
      " 0   ID                                   822 non-null    int64 \n",
      " 1   SeparationType                       822 non-null    object\n",
      " 2   Cease Date                           822 non-null    object\n",
      " 3   DETE Start Date                      822 non-null    object\n",
      " 4   Role Start Date                      822 non-null    object\n",
      " 5   Position                             817 non-null    object\n",
      " 6   Classification                       455 non-null    object\n",
      " 7   Region                               822 non-null    object\n",
      " 8   Business Unit                        126 non-null    object\n",
      " 9   Employment Status                    817 non-null    object\n",
      " 10  Career move to public sector         822 non-null    bool  \n",
      " 11  Career move to private sector        822 non-null    bool  \n",
      " 12  Interpersonal conflicts              822 non-null    bool  \n",
      " 13  Job dissatisfaction                  822 non-null    bool  \n",
      " 14  Dissatisfaction with the department  822 non-null    bool  \n",
      " 15  Physical work environment            822 non-null    bool  \n",
      " 16  Lack of recognition                  822 non-null    bool  \n",
      " 17  Lack of job security                 822 non-null    bool  \n",
      " 18  Work location                        822 non-null    bool  \n",
      " 19  Employment conditions                822 non-null    bool  \n",
      " 20  Maternity/family                     822 non-null    bool  \n",
      " 21  Relocation                           822 non-null    bool  \n",
      " 22  Study/Travel                         822 non-null    bool  \n",
      " 23  Ill Health                           822 non-null    bool  \n",
      " 24  Traumatic incident                   822 non-null    bool  \n",
      " 25  Work life balance                    822 non-null    bool  \n",
      " 26  Workload                             822 non-null    bool  \n",
      " 27  None of the above                    822 non-null    bool  \n",
      " 28  Professional Development             808 non-null    object\n",
      " 29  Opportunities for promotion          735 non-null    object\n",
      " 30  Staff morale                         816 non-null    object\n",
      " 31  Workplace issue                      788 non-null    object\n",
      " 32  Physical environment                 817 non-null    object\n",
      " 33  Worklife balance                     815 non-null    object\n",
      " 34  Stress and pressure support          810 non-null    object\n",
      " 35  Performance of supervisor            813 non-null    object\n",
      " 36  Peer support                         812 non-null    object\n",
      " 37  Initiative                           813 non-null    object\n",
      " 38  Skills                               811 non-null    object\n",
      " 39  Coach                                767 non-null    object\n",
      " 40  Career Aspirations                   746 non-null    object\n",
      " 41  Feedback                             792 non-null    object\n",
      " 42  Further PD                           768 non-null    object\n",
      " 43  Communication                        814 non-null    object\n",
      " 44  My say                               812 non-null    object\n",
      " 45  Information                          816 non-null    object\n",
      " 46  Kept informed                        813 non-null    object\n",
      " 47  Wellness programs                    766 non-null    object\n",
      " 48  Health & Safety                      793 non-null    object\n",
      " 49  Gender                               798 non-null    object\n",
      " 50  Age                                  811 non-null    object\n",
      " 51  Aboriginal                           16 non-null     object\n",
      " 52  Torres Strait                        3 non-null      object\n",
      " 53  South Sea                            7 non-null      object\n",
      " 54  Disability                           23 non-null     object\n",
      " 55  NESB                                 32 non-null     object\n",
      "dtypes: bool(18), int64(1), object(37)\n",
      "memory usage: 258.6+ KB\n"
     ]
    }
   ],
   "source": [
    "dete_survey.info()"
   ]
  },
  {
   "cell_type": "code",
   "execution_count": 4,
   "id": "aa9c5aff-950f-4f82-89ca-f58a4b78da14",
   "metadata": {},
   "outputs": [
    {
     "data": {
      "text/html": [
       "<div>\n",
       "<style scoped>\n",
       "    .dataframe tbody tr th:only-of-type {\n",
       "        vertical-align: middle;\n",
       "    }\n",
       "\n",
       "    .dataframe tbody tr th {\n",
       "        vertical-align: top;\n",
       "    }\n",
       "\n",
       "    .dataframe thead th {\n",
       "        text-align: right;\n",
       "    }\n",
       "</style>\n",
       "<table border=\"1\" class=\"dataframe\">\n",
       "  <thead>\n",
       "    <tr style=\"text-align: right;\">\n",
       "      <th></th>\n",
       "      <th>SeparationType</th>\n",
       "      <th>Cease Date</th>\n",
       "      <th>DETE Start Date</th>\n",
       "      <th>Role Start Date</th>\n",
       "      <th>Position</th>\n",
       "      <th>Classification</th>\n",
       "      <th>Region</th>\n",
       "      <th>Business Unit</th>\n",
       "      <th>Employment Status</th>\n",
       "      <th>Professional Development</th>\n",
       "      <th>...</th>\n",
       "      <th>Kept informed</th>\n",
       "      <th>Wellness programs</th>\n",
       "      <th>Health &amp; Safety</th>\n",
       "      <th>Gender</th>\n",
       "      <th>Age</th>\n",
       "      <th>Aboriginal</th>\n",
       "      <th>Torres Strait</th>\n",
       "      <th>South Sea</th>\n",
       "      <th>Disability</th>\n",
       "      <th>NESB</th>\n",
       "    </tr>\n",
       "  </thead>\n",
       "  <tbody>\n",
       "    <tr>\n",
       "      <th>count</th>\n",
       "      <td>822</td>\n",
       "      <td>822</td>\n",
       "      <td>822</td>\n",
       "      <td>822</td>\n",
       "      <td>817</td>\n",
       "      <td>455</td>\n",
       "      <td>822</td>\n",
       "      <td>126</td>\n",
       "      <td>817</td>\n",
       "      <td>808</td>\n",
       "      <td>...</td>\n",
       "      <td>813</td>\n",
       "      <td>766</td>\n",
       "      <td>793</td>\n",
       "      <td>798</td>\n",
       "      <td>811</td>\n",
       "      <td>16</td>\n",
       "      <td>3</td>\n",
       "      <td>7</td>\n",
       "      <td>23</td>\n",
       "      <td>32</td>\n",
       "    </tr>\n",
       "    <tr>\n",
       "      <th>unique</th>\n",
       "      <td>9</td>\n",
       "      <td>25</td>\n",
       "      <td>51</td>\n",
       "      <td>46</td>\n",
       "      <td>15</td>\n",
       "      <td>8</td>\n",
       "      <td>9</td>\n",
       "      <td>14</td>\n",
       "      <td>5</td>\n",
       "      <td>6</td>\n",
       "      <td>...</td>\n",
       "      <td>6</td>\n",
       "      <td>6</td>\n",
       "      <td>6</td>\n",
       "      <td>2</td>\n",
       "      <td>10</td>\n",
       "      <td>1</td>\n",
       "      <td>1</td>\n",
       "      <td>1</td>\n",
       "      <td>1</td>\n",
       "      <td>1</td>\n",
       "    </tr>\n",
       "    <tr>\n",
       "      <th>top</th>\n",
       "      <td>Age Retirement</td>\n",
       "      <td>2012</td>\n",
       "      <td>Not Stated</td>\n",
       "      <td>Not Stated</td>\n",
       "      <td>Teacher</td>\n",
       "      <td>Primary</td>\n",
       "      <td>Metropolitan</td>\n",
       "      <td>Education Queensland</td>\n",
       "      <td>Permanent Full-time</td>\n",
       "      <td>A</td>\n",
       "      <td>...</td>\n",
       "      <td>A</td>\n",
       "      <td>A</td>\n",
       "      <td>A</td>\n",
       "      <td>Female</td>\n",
       "      <td>61 or older</td>\n",
       "      <td>Yes</td>\n",
       "      <td>Yes</td>\n",
       "      <td>Yes</td>\n",
       "      <td>Yes</td>\n",
       "      <td>Yes</td>\n",
       "    </tr>\n",
       "    <tr>\n",
       "      <th>freq</th>\n",
       "      <td>285</td>\n",
       "      <td>344</td>\n",
       "      <td>73</td>\n",
       "      <td>98</td>\n",
       "      <td>324</td>\n",
       "      <td>161</td>\n",
       "      <td>135</td>\n",
       "      <td>54</td>\n",
       "      <td>434</td>\n",
       "      <td>413</td>\n",
       "      <td>...</td>\n",
       "      <td>401</td>\n",
       "      <td>253</td>\n",
       "      <td>386</td>\n",
       "      <td>573</td>\n",
       "      <td>222</td>\n",
       "      <td>16</td>\n",
       "      <td>3</td>\n",
       "      <td>7</td>\n",
       "      <td>23</td>\n",
       "      <td>32</td>\n",
       "    </tr>\n",
       "  </tbody>\n",
       "</table>\n",
       "<p>4 rows × 37 columns</p>\n",
       "</div>"
      ],
      "text/plain": [
       "        SeparationType Cease Date DETE Start Date Role Start Date Position  \\\n",
       "count              822        822             822             822      817   \n",
       "unique               9         25              51              46       15   \n",
       "top     Age Retirement       2012      Not Stated      Not Stated  Teacher   \n",
       "freq               285        344              73              98      324   \n",
       "\n",
       "       Classification        Region         Business Unit  \\\n",
       "count             455           822                   126   \n",
       "unique              8             9                    14   \n",
       "top           Primary  Metropolitan  Education Queensland   \n",
       "freq              161           135                    54   \n",
       "\n",
       "          Employment Status Professional Development  ... Kept informed  \\\n",
       "count                   817                      808  ...           813   \n",
       "unique                    5                        6  ...             6   \n",
       "top     Permanent Full-time                        A  ...             A   \n",
       "freq                    434                      413  ...           401   \n",
       "\n",
       "       Wellness programs Health & Safety  Gender          Age Aboriginal  \\\n",
       "count                766             793     798          811         16   \n",
       "unique                 6               6       2           10          1   \n",
       "top                    A               A  Female  61 or older        Yes   \n",
       "freq                 253             386     573          222         16   \n",
       "\n",
       "       Torres Strait South Sea Disability NESB  \n",
       "count              3         7         23   32  \n",
       "unique             1         1          1    1  \n",
       "top              Yes       Yes        Yes  Yes  \n",
       "freq               3         7         23   32  \n",
       "\n",
       "[4 rows x 37 columns]"
      ]
     },
     "execution_count": 4,
     "metadata": {},
     "output_type": "execute_result"
    }
   ],
   "source": [
    "dete_survey.describe(include=[\"O\"])"
   ]
  },
  {
   "cell_type": "code",
   "execution_count": 5,
   "id": "25be0904-362d-403d-91d9-74fa7214fbb0",
   "metadata": {},
   "outputs": [
    {
     "data": {
      "text/plain": [
       "Cease Date\n",
       "2012          344\n",
       "2013          200\n",
       "01/2014        43\n",
       "12/2013        40\n",
       "Not Stated     34\n",
       "09/2013        34\n",
       "06/2013        27\n",
       "07/2013        22\n",
       "10/2013        20\n",
       "11/2013        16\n",
       "08/2013        12\n",
       "05/2013         7\n",
       "05/2012         6\n",
       "04/2014         2\n",
       "07/2014         2\n",
       "08/2012         2\n",
       "04/2013         2\n",
       "02/2014         2\n",
       "11/2012         1\n",
       "09/2010         1\n",
       "2010            1\n",
       "2014            1\n",
       "07/2012         1\n",
       "09/2014         1\n",
       "07/2006         1\n",
       "Name: count, dtype: int64"
      ]
     },
     "execution_count": 5,
     "metadata": {},
     "output_type": "execute_result"
    }
   ],
   "source": [
    "dete_survey[\"Cease Date\"].value_counts()"
   ]
  },
  {
   "cell_type": "code",
   "execution_count": 6,
   "id": "47c7bedb-58e0-4d32-a719-4dec5e41f14f",
   "metadata": {},
   "outputs": [
    {
     "data": {
      "text/plain": [
       "Professional Development\n",
       "A      413\n",
       "SA     184\n",
       "N      103\n",
       "D       60\n",
       "SD      33\n",
       "M       15\n",
       "NaN     14\n",
       "Name: count, dtype: int64"
      ]
     },
     "execution_count": 6,
     "metadata": {},
     "output_type": "execute_result"
    }
   ],
   "source": [
    "dete_survey[\"Professional Development\"].value_counts(dropna=False)"
   ]
  },
  {
   "cell_type": "code",
   "execution_count": 7,
   "id": "d00871b8-12c0-474e-8fcf-5b21f003d1d4",
   "metadata": {},
   "outputs": [
    {
     "name": "stdout",
     "output_type": "stream",
     "text": [
      "<class 'pandas.core.frame.DataFrame'>\n",
      "RangeIndex: 702 entries, 0 to 701\n",
      "Data columns (total 72 columns):\n",
      " #   Column                                                                                                                                                         Non-Null Count  Dtype  \n",
      "---  ------                                                                                                                                                         --------------  -----  \n",
      " 0   Record ID                                                                                                                                                      702 non-null    float64\n",
      " 1   Institute                                                                                                                                                      702 non-null    object \n",
      " 2   WorkArea                                                                                                                                                       702 non-null    object \n",
      " 3   CESSATION YEAR                                                                                                                                                 695 non-null    float64\n",
      " 4   Reason for ceasing employment                                                                                                                                  701 non-null    object \n",
      " 5   Contributing Factors. Career Move - Public Sector                                                                                                              437 non-null    object \n",
      " 6   Contributing Factors. Career Move - Private Sector                                                                                                             437 non-null    object \n",
      " 7   Contributing Factors. Career Move - Self-employment                                                                                                            437 non-null    object \n",
      " 8   Contributing Factors. Ill Health                                                                                                                               437 non-null    object \n",
      " 9   Contributing Factors. Maternity/Family                                                                                                                         437 non-null    object \n",
      " 10  Contributing Factors. Dissatisfaction                                                                                                                          437 non-null    object \n",
      " 11  Contributing Factors. Job Dissatisfaction                                                                                                                      437 non-null    object \n",
      " 12  Contributing Factors. Interpersonal Conflict                                                                                                                   437 non-null    object \n",
      " 13  Contributing Factors. Study                                                                                                                                    437 non-null    object \n",
      " 14  Contributing Factors. Travel                                                                                                                                   437 non-null    object \n",
      " 15  Contributing Factors. Other                                                                                                                                    437 non-null    object \n",
      " 16  Contributing Factors. NONE                                                                                                                                     437 non-null    object \n",
      " 17  Main Factor. Which of these was the main factor for leaving?                                                                                                   113 non-null    object \n",
      " 18  InstituteViews. Topic:1. I feel the senior leadership had a clear vision and direction                                                                         608 non-null    object \n",
      " 19  InstituteViews. Topic:2. I was given access to skills training to help me do my job better                                                                     613 non-null    object \n",
      " 20  InstituteViews. Topic:3. I was given adequate opportunities for personal development                                                                           610 non-null    object \n",
      " 21  InstituteViews. Topic:4. I was given adequate opportunities for promotion within %Institute]Q25LBL%                                                            608 non-null    object \n",
      " 22  InstituteViews. Topic:5. I felt the salary for the job was right for the responsibilities I had                                                                615 non-null    object \n",
      " 23  InstituteViews. Topic:6. The organisation recognised when staff did good work                                                                                  607 non-null    object \n",
      " 24  InstituteViews. Topic:7. Management was generally supportive of me                                                                                             614 non-null    object \n",
      " 25  InstituteViews. Topic:8. Management was generally supportive of my team                                                                                        608 non-null    object \n",
      " 26  InstituteViews. Topic:9. I was kept informed of the changes in the organisation which would affect me                                                          610 non-null    object \n",
      " 27  InstituteViews. Topic:10. Staff morale was positive within the Institute                                                                                       602 non-null    object \n",
      " 28  InstituteViews. Topic:11. If I had a workplace issue it was dealt with quickly                                                                                 601 non-null    object \n",
      " 29  InstituteViews. Topic:12. If I had a workplace issue it was dealt with efficiently                                                                             597 non-null    object \n",
      " 30  InstituteViews. Topic:13. If I had a workplace issue it was dealt with discreetly                                                                              601 non-null    object \n",
      " 31  WorkUnitViews. Topic:14. I was satisfied with the quality of the management and supervision within my work unit                                                609 non-null    object \n",
      " 32  WorkUnitViews. Topic:15. I worked well with my colleagues                                                                                                      605 non-null    object \n",
      " 33  WorkUnitViews. Topic:16. My job was challenging and interesting                                                                                                607 non-null    object \n",
      " 34  WorkUnitViews. Topic:17. I was encouraged to use my initiative in the course of my work                                                                        610 non-null    object \n",
      " 35  WorkUnitViews. Topic:18. I had sufficient contact with other people in my job                                                                                  613 non-null    object \n",
      " 36  WorkUnitViews. Topic:19. I was given adequate support and co-operation by my peers to enable me to do my job                                                   609 non-null    object \n",
      " 37  WorkUnitViews. Topic:20. I was able to use the full range of my skills in my job                                                                               609 non-null    object \n",
      " 38  WorkUnitViews. Topic:21. I was able to use the full range of my abilities in my job. ; Category:Level of Agreement; Question:YOUR VIEWS ABOUT YOUR WORK UNIT]  608 non-null    object \n",
      " 39  WorkUnitViews. Topic:22. I was able to use the full range of my knowledge in my job                                                                            608 non-null    object \n",
      " 40  WorkUnitViews. Topic:23. My job provided sufficient variety                                                                                                    611 non-null    object \n",
      " 41  WorkUnitViews. Topic:24. I was able to cope with the level of stress and pressure in my job                                                                    610 non-null    object \n",
      " 42  WorkUnitViews. Topic:25. My job allowed me to balance the demands of work and family to my satisfaction                                                        611 non-null    object \n",
      " 43  WorkUnitViews. Topic:26. My supervisor gave me adequate personal recognition and feedback on my performance                                                    606 non-null    object \n",
      " 44  WorkUnitViews. Topic:27. My working environment was satisfactory e.g. sufficient space, good lighting, suitable seating and working area                       610 non-null    object \n",
      " 45  WorkUnitViews. Topic:28. I was given the opportunity to mentor and coach others in order for me to pass on my skills and knowledge prior to my cessation date  609 non-null    object \n",
      " 46  WorkUnitViews. Topic:29. There was adequate communication between staff in my unit                                                                             603 non-null    object \n",
      " 47  WorkUnitViews. Topic:30. Staff morale was positive within my work unit                                                                                         606 non-null    object \n",
      " 48  Induction. Did you undertake Workplace Induction?                                                                                                              619 non-null    object \n",
      " 49  InductionInfo. Topic:Did you undertake a Corporate Induction?                                                                                                  432 non-null    object \n",
      " 50  InductionInfo. Topic:Did you undertake a Institute Induction?                                                                                                  483 non-null    object \n",
      " 51  InductionInfo. Topic: Did you undertake Team Induction?                                                                                                        440 non-null    object \n",
      " 52  InductionInfo. Face to Face Topic:Did you undertake a Corporate Induction; Category:How it was conducted?                                                      555 non-null    object \n",
      " 53  InductionInfo. On-line Topic:Did you undertake a Corporate Induction; Category:How it was conducted?                                                           555 non-null    object \n",
      " 54  InductionInfo. Induction Manual Topic:Did you undertake a Corporate Induction?                                                                                 555 non-null    object \n",
      " 55  InductionInfo. Face to Face Topic:Did you undertake a Institute Induction?                                                                                     530 non-null    object \n",
      " 56  InductionInfo. On-line Topic:Did you undertake a Institute Induction?                                                                                          555 non-null    object \n",
      " 57  InductionInfo. Induction Manual Topic:Did you undertake a Institute Induction?                                                                                 553 non-null    object \n",
      " 58  InductionInfo. Face to Face Topic: Did you undertake Team Induction; Category?                                                                                 555 non-null    object \n",
      " 59  InductionInfo. On-line Topic: Did you undertake Team Induction?process you undertook and how it was conducted.]                                                555 non-null    object \n",
      " 60  InductionInfo. Induction Manual Topic: Did you undertake Team Induction?                                                                                       555 non-null    object \n",
      " 61  Workplace. Topic:Did you and your Manager develop a Performance and Professional Development Plan (PPDP)?                                                      608 non-null    object \n",
      " 62  Workplace. Topic:Does your workplace promote a work culture free from all forms of unlawful discrimination?                                                    594 non-null    object \n",
      " 63  Workplace. Topic:Does your workplace promote and practice the principles of employment equity?                                                                 587 non-null    object \n",
      " 64  Workplace. Topic:Does your workplace value the diversity of its employees?                                                                                     586 non-null    object \n",
      " 65  Workplace. Topic:Would you recommend the Institute as an employer to others?                                                                                   581 non-null    object \n",
      " 66  Gender. What is your Gender?                                                                                                                                   596 non-null    object \n",
      " 67  CurrentAge. Current Age                                                                                                                                        596 non-null    object \n",
      " 68  Employment Type. Employment Type                                                                                                                               596 non-null    object \n",
      " 69  Classification. Classification                                                                                                                                 596 non-null    object \n",
      " 70  LengthofServiceOverall. Overall Length of Service at Institute (in years)                                                                                      596 non-null    object \n",
      " 71  LengthofServiceCurrent. Length of Service at current workplace (in years)                                                                                      596 non-null    object \n",
      "dtypes: float64(2), object(70)\n",
      "memory usage: 395.0+ KB\n"
     ]
    }
   ],
   "source": [
    "tafe_survey.info()"
   ]
  },
  {
   "cell_type": "code",
   "execution_count": 45,
   "id": "daf801af-3e3d-4f33-b1b7-457ff6856dfc",
   "metadata": {},
   "outputs": [
    {
     "data": {
      "text/plain": [
       "WorkUnitViews. Topic:14. I was satisfied with the quality of the management and supervision within my work unit\n",
       "Agree                234\n",
       "Strongly Agree       156\n",
       "Disagree              87\n",
       "Neutral               81\n",
       "Strongly Disagree     43\n",
       "Not Applicable         8\n",
       "Name: count, dtype: int64"
      ]
     },
     "execution_count": 45,
     "metadata": {},
     "output_type": "execute_result"
    }
   ],
   "source": [
    "tafe_survey.iloc[:, 31].value_counts()"
   ]
  },
  {
   "cell_type": "markdown",
   "id": "908b6d55-bba3-4790-aa2b-aa894f7df474",
   "metadata": {},
   "source": [
    "The first question to be addressed is: \"Are employees who only worked for the institutes for a short period of time resigning due to some kind of dissatisfaction? What about employees who have been there longer?\".\n",
    "\n",
    "We need the following information from the data:\n",
    "\n",
    "* Which employees resigned?\n",
    "* Duration of employment of employees (to be grouped into \"short period\" versus \"been there longer\")\n",
    "* Reasons for resignation"
   ]
  },
  {
   "cell_type": "code",
   "execution_count": 9,
   "id": "a0e125ab-462d-44ba-9d68-bc7da7ae197e",
   "metadata": {},
   "outputs": [
    {
     "data": {
      "text/plain": [
       "SeparationType\n",
       "Age Retirement                          285\n",
       "Resignation-Other reasons               150\n",
       "Resignation-Other employer               91\n",
       "Resignation-Move overseas/interstate     70\n",
       "Voluntary Early Retirement (VER)         67\n",
       "Ill Health Retirement                    61\n",
       "Other                                    49\n",
       "Contract Expired                         34\n",
       "Termination                              15\n",
       "Name: count, dtype: int64"
      ]
     },
     "execution_count": 9,
     "metadata": {},
     "output_type": "execute_result"
    }
   ],
   "source": [
    "dete_survey[\"SeparationType\"].value_counts()"
   ]
  },
  {
   "cell_type": "code",
   "execution_count": 10,
   "id": "b1ec5d4b-50f1-4eca-98ff-015fe7ee2ea4",
   "metadata": {},
   "outputs": [
    {
     "data": {
      "text/plain": [
       "Index(['Record ID', 'Institute', 'WorkArea', 'CESSATION YEAR',\n",
       "       'Reason for ceasing employment',\n",
       "       'Contributing Factors. Career Move - Public Sector ',\n",
       "       'Contributing Factors. Career Move - Private Sector ',\n",
       "       'Contributing Factors. Career Move - Self-employment',\n",
       "       'Contributing Factors. Ill Health',\n",
       "       'Contributing Factors. Maternity/Family',\n",
       "       'Contributing Factors. Dissatisfaction',\n",
       "       'Contributing Factors. Job Dissatisfaction',\n",
       "       'Contributing Factors. Interpersonal Conflict',\n",
       "       'Contributing Factors. Study', 'Contributing Factors. Travel',\n",
       "       'Contributing Factors. Other', 'Contributing Factors. NONE',\n",
       "       'Main Factor. Which of these was the main factor for leaving?',\n",
       "       'InstituteViews. Topic:1. I feel the senior leadership had a clear vision and direction',\n",
       "       'InstituteViews. Topic:2. I was given access to skills training to help me do my job better',\n",
       "       'InstituteViews. Topic:3. I was given adequate opportunities for personal development',\n",
       "       'InstituteViews. Topic:4. I was given adequate opportunities for promotion within %Institute]Q25LBL%',\n",
       "       'InstituteViews. Topic:5. I felt the salary for the job was right for the responsibilities I had',\n",
       "       'InstituteViews. Topic:6. The organisation recognised when staff did good work',\n",
       "       'InstituteViews. Topic:7. Management was generally supportive of me',\n",
       "       'InstituteViews. Topic:8. Management was generally supportive of my team',\n",
       "       'InstituteViews. Topic:9. I was kept informed of the changes in the organisation which would affect me',\n",
       "       'InstituteViews. Topic:10. Staff morale was positive within the Institute',\n",
       "       'InstituteViews. Topic:11. If I had a workplace issue it was dealt with quickly',\n",
       "       'InstituteViews. Topic:12. If I had a workplace issue it was dealt with efficiently',\n",
       "       'InstituteViews. Topic:13. If I had a workplace issue it was dealt with discreetly',\n",
       "       'WorkUnitViews. Topic:14. I was satisfied with the quality of the management and supervision within my work unit',\n",
       "       'WorkUnitViews. Topic:15. I worked well with my colleagues',\n",
       "       'WorkUnitViews. Topic:16. My job was challenging and interesting',\n",
       "       'WorkUnitViews. Topic:17. I was encouraged to use my initiative in the course of my work',\n",
       "       'WorkUnitViews. Topic:18. I had sufficient contact with other people in my job',\n",
       "       'WorkUnitViews. Topic:19. I was given adequate support and co-operation by my peers to enable me to do my job',\n",
       "       'WorkUnitViews. Topic:20. I was able to use the full range of my skills in my job',\n",
       "       'WorkUnitViews. Topic:21. I was able to use the full range of my abilities in my job. ; Category:Level of Agreement; Question:YOUR VIEWS ABOUT YOUR WORK UNIT]',\n",
       "       'WorkUnitViews. Topic:22. I was able to use the full range of my knowledge in my job',\n",
       "       'WorkUnitViews. Topic:23. My job provided sufficient variety',\n",
       "       'WorkUnitViews. Topic:24. I was able to cope with the level of stress and pressure in my job',\n",
       "       'WorkUnitViews. Topic:25. My job allowed me to balance the demands of work and family to my satisfaction',\n",
       "       'WorkUnitViews. Topic:26. My supervisor gave me adequate personal recognition and feedback on my performance',\n",
       "       'WorkUnitViews. Topic:27. My working environment was satisfactory e.g. sufficient space, good lighting, suitable seating and working area',\n",
       "       'WorkUnitViews. Topic:28. I was given the opportunity to mentor and coach others in order for me to pass on my skills and knowledge prior to my cessation date',\n",
       "       'WorkUnitViews. Topic:29. There was adequate communication between staff in my unit',\n",
       "       'WorkUnitViews. Topic:30. Staff morale was positive within my work unit',\n",
       "       'Induction. Did you undertake Workplace Induction?',\n",
       "       'InductionInfo. Topic:Did you undertake a Corporate Induction?',\n",
       "       'InductionInfo. Topic:Did you undertake a Institute Induction?',\n",
       "       'InductionInfo. Topic: Did you undertake Team Induction?',\n",
       "       'InductionInfo. Face to Face Topic:Did you undertake a Corporate Induction; Category:How it was conducted?',\n",
       "       'InductionInfo. On-line Topic:Did you undertake a Corporate Induction; Category:How it was conducted?',\n",
       "       'InductionInfo. Induction Manual Topic:Did you undertake a Corporate Induction?',\n",
       "       'InductionInfo. Face to Face Topic:Did you undertake a Institute Induction?',\n",
       "       'InductionInfo. On-line Topic:Did you undertake a Institute Induction?',\n",
       "       'InductionInfo. Induction Manual Topic:Did you undertake a Institute Induction?',\n",
       "       'InductionInfo. Face to Face Topic: Did you undertake Team Induction; Category?',\n",
       "       'InductionInfo. On-line Topic: Did you undertake Team Induction?process you undertook and how it was conducted.]',\n",
       "       'InductionInfo. Induction Manual Topic: Did you undertake Team Induction?',\n",
       "       'Workplace. Topic:Did you and your Manager develop a Performance and Professional Development Plan (PPDP)?',\n",
       "       'Workplace. Topic:Does your workplace promote a work culture free from all forms of unlawful discrimination?',\n",
       "       'Workplace. Topic:Does your workplace promote and practice the principles of employment equity?',\n",
       "       'Workplace. Topic:Does your workplace value the diversity of its employees?',\n",
       "       'Workplace. Topic:Would you recommend the Institute as an employer to others?',\n",
       "       'Gender. What is your Gender?', 'CurrentAge. Current Age',\n",
       "       'Employment Type. Employment Type', 'Classification. Classification',\n",
       "       'LengthofServiceOverall. Overall Length of Service at Institute (in years)',\n",
       "       'LengthofServiceCurrent. Length of Service at current workplace (in years)'],\n",
       "      dtype='object')"
      ]
     },
     "execution_count": 10,
     "metadata": {},
     "output_type": "execute_result"
    }
   ],
   "source": [
    "tafe_survey.columns"
   ]
  },
  {
   "cell_type": "code",
   "execution_count": 11,
   "id": "3fd4d756-c046-4d9b-8da5-3189f3415c19",
   "metadata": {},
   "outputs": [
    {
     "data": {
      "text/plain": [
       "Reason for ceasing employment\n",
       "Resignation                 340\n",
       "Contract Expired            127\n",
       "Retrenchment/ Redundancy    104\n",
       "Retirement                   82\n",
       "Transfer                     25\n",
       "Termination                  23\n",
       "Name: count, dtype: int64"
      ]
     },
     "execution_count": 11,
     "metadata": {},
     "output_type": "execute_result"
    }
   ],
   "source": [
    "tafe_survey[\"Reason for ceasing employment\"].value_counts()"
   ]
  },
  {
   "cell_type": "markdown",
   "id": "fec7cfd4-a4f8-4dda-8025-7797c7790172",
   "metadata": {},
   "source": [
    "We first filter for employees who resigned:\n",
    "\n",
    "* For `dete_survey`: Column \"SeparationType\", value starting with \"Resignation\"\n",
    "* For `tafe_survey`: Column \"Reason for ceasing employment\", value \"Resignation\""
   ]
  },
  {
   "cell_type": "code",
   "execution_count": 12,
   "id": "e094131f-b133-411f-bca3-219562f67f59",
   "metadata": {},
   "outputs": [
    {
     "data": {
      "text/plain": [
       "((311, 56), (340, 72))"
      ]
     },
     "execution_count": 12,
     "metadata": {},
     "output_type": "execute_result"
    }
   ],
   "source": [
    "dete_resigned = dete_survey[dete_survey[\"SeparationType\"].str.startswith(\"Resignation\")].copy()\n",
    "tafe_resigned = tafe_survey[tafe_survey[\"Reason for ceasing employment\"] == \"Resignation\"].copy()\n",
    "\n",
    "dete_resigned.shape, tafe_resigned.shape"
   ]
  },
  {
   "cell_type": "code",
   "execution_count": 13,
   "id": "1b9c0504-2c87-4a6d-b5e8-b902e49caec6",
   "metadata": {},
   "outputs": [
    {
     "data": {
      "text/plain": [
       "LengthofServiceOverall. Overall Length of Service at Institute (in years)\n",
       "Less than 1 year      73\n",
       "1-2                   64\n",
       "3-4                   63\n",
       "NaN                   50\n",
       "5-6                   33\n",
       "11-20                 26\n",
       "7-10                  21\n",
       "More than 20 years    10\n",
       "Name: count, dtype: int64"
      ]
     },
     "execution_count": 13,
     "metadata": {},
     "output_type": "execute_result"
    }
   ],
   "source": [
    "tafe_resigned[\"LengthofServiceOverall. Overall Length of Service at Institute (in years)\"].value_counts(dropna=False)"
   ]
  },
  {
   "cell_type": "code",
   "execution_count": 14,
   "id": "cf60561f-7740-4fb8-a4c0-e2fda7f67b4e",
   "metadata": {},
   "outputs": [
    {
     "data": {
      "text/plain": [
       "Cease Date\n",
       "2012          126\n",
       "2013           74\n",
       "01/2014        22\n",
       "12/2013        17\n",
       "06/2013        14\n",
       "Not Stated     11\n",
       "09/2013        11\n",
       "07/2013         9\n",
       "11/2013         9\n",
       "10/2013         6\n",
       "08/2013         4\n",
       "05/2012         2\n",
       "05/2013         2\n",
       "09/2010         1\n",
       "07/2012         1\n",
       "2010            1\n",
       "07/2006         1\n",
       "Name: count, dtype: int64"
      ]
     },
     "execution_count": 14,
     "metadata": {},
     "output_type": "execute_result"
    }
   ],
   "source": [
    "dete_resigned[\"Cease Date\"].value_counts()"
   ]
  },
  {
   "cell_type": "code",
   "execution_count": 15,
   "id": "caeb47ea-8b65-48a5-83a7-2858f253d010",
   "metadata": {},
   "outputs": [
    {
     "data": {
      "text/plain": [
       "DETE Start Date\n",
       "Not Stated    28\n",
       "2011          24\n",
       "2008          22\n",
       "2012          21\n",
       "2007          21\n",
       "2010          17\n",
       "2005          15\n",
       "2004          14\n",
       "2006          13\n",
       "2009          13\n",
       "2013          10\n",
       "2000           9\n",
       "1999           8\n",
       "1994           6\n",
       "2003           6\n",
       "1992           6\n",
       "1996           6\n",
       "1998           6\n",
       "2002           6\n",
       "1990           5\n",
       "1997           5\n",
       "1980           5\n",
       "1993           5\n",
       "1989           4\n",
       "1991           4\n",
       "1988           4\n",
       "1995           4\n",
       "1986           3\n",
       "2001           3\n",
       "1985           3\n",
       "1983           2\n",
       "1976           2\n",
       "1974           2\n",
       "1975           1\n",
       "1984           1\n",
       "1971           1\n",
       "1982           1\n",
       "1972           1\n",
       "1963           1\n",
       "1977           1\n",
       "1973           1\n",
       "1987           1\n",
       "Name: count, dtype: int64"
      ]
     },
     "execution_count": 15,
     "metadata": {},
     "output_type": "execute_result"
    }
   ],
   "source": [
    "dete_resigned[\"DETE Start Date\"].value_counts()"
   ]
  },
  {
   "cell_type": "markdown",
   "id": "27959a74-289d-46a8-8fbb-008d5d3ef6cb",
   "metadata": {},
   "source": [
    "Next, we'd like to determine how long each employee stayed at the respective institute:\n",
    "\n",
    "* `tafe_resigned`: Column \"LengthofServiceOverall...\". This variable is broken up into certain bins\n",
    "* `dete_resigned`: Columns \"Cease Date\", \"DETE Start Date\". Both have \"Not Stated\" for NaN. \"Cease Date\" sometimes also features the month\n",
    "\n",
    "We'll create a new column in `dete_resigned` with the same bins as in the `tafe_resigned` column."
   ]
  },
  {
   "cell_type": "code",
   "execution_count": 16,
   "id": "319f2493-74da-4ff0-a0cf-3e206fc76973",
   "metadata": {},
   "outputs": [
    {
     "data": {
      "text/plain": [
       "Index(['Record ID', 'Institute', 'WorkArea', 'CESSATION YEAR',\n",
       "       'Reason for ceasing employment',\n",
       "       'Contributing Factors. Career Move - Public Sector ',\n",
       "       'Contributing Factors. Career Move - Private Sector ',\n",
       "       'Contributing Factors. Career Move - Self-employment',\n",
       "       'Contributing Factors. Ill Health',\n",
       "       'Contributing Factors. Maternity/Family',\n",
       "       'Contributing Factors. Dissatisfaction',\n",
       "       'Contributing Factors. Job Dissatisfaction',\n",
       "       'Contributing Factors. Interpersonal Conflict',\n",
       "       'Contributing Factors. Study', 'Contributing Factors. Travel',\n",
       "       'Contributing Factors. Other', 'Contributing Factors. NONE',\n",
       "       'Main Factor. Which of these was the main factor for leaving?',\n",
       "       'InstituteViews. Topic:1. I feel the senior leadership had a clear vision and direction',\n",
       "       'InstituteViews. Topic:2. I was given access to skills training to help me do my job better',\n",
       "       'InstituteViews. Topic:3. I was given adequate opportunities for personal development',\n",
       "       'InstituteViews. Topic:4. I was given adequate opportunities for promotion within %Institute]Q25LBL%',\n",
       "       'InstituteViews. Topic:5. I felt the salary for the job was right for the responsibilities I had',\n",
       "       'InstituteViews. Topic:6. The organisation recognised when staff did good work',\n",
       "       'InstituteViews. Topic:7. Management was generally supportive of me',\n",
       "       'InstituteViews. Topic:8. Management was generally supportive of my team',\n",
       "       'InstituteViews. Topic:9. I was kept informed of the changes in the organisation which would affect me',\n",
       "       'InstituteViews. Topic:10. Staff morale was positive within the Institute',\n",
       "       'InstituteViews. Topic:11. If I had a workplace issue it was dealt with quickly',\n",
       "       'InstituteViews. Topic:12. If I had a workplace issue it was dealt with efficiently',\n",
       "       'InstituteViews. Topic:13. If I had a workplace issue it was dealt with discreetly',\n",
       "       'WorkUnitViews. Topic:14. I was satisfied with the quality of the management and supervision within my work unit',\n",
       "       'WorkUnitViews. Topic:15. I worked well with my colleagues',\n",
       "       'WorkUnitViews. Topic:16. My job was challenging and interesting',\n",
       "       'WorkUnitViews. Topic:17. I was encouraged to use my initiative in the course of my work',\n",
       "       'WorkUnitViews. Topic:18. I had sufficient contact with other people in my job',\n",
       "       'WorkUnitViews. Topic:19. I was given adequate support and co-operation by my peers to enable me to do my job',\n",
       "       'WorkUnitViews. Topic:20. I was able to use the full range of my skills in my job',\n",
       "       'WorkUnitViews. Topic:21. I was able to use the full range of my abilities in my job. ; Category:Level of Agreement; Question:YOUR VIEWS ABOUT YOUR WORK UNIT]',\n",
       "       'WorkUnitViews. Topic:22. I was able to use the full range of my knowledge in my job',\n",
       "       'WorkUnitViews. Topic:23. My job provided sufficient variety',\n",
       "       'WorkUnitViews. Topic:24. I was able to cope with the level of stress and pressure in my job',\n",
       "       'WorkUnitViews. Topic:25. My job allowed me to balance the demands of work and family to my satisfaction',\n",
       "       'WorkUnitViews. Topic:26. My supervisor gave me adequate personal recognition and feedback on my performance',\n",
       "       'WorkUnitViews. Topic:27. My working environment was satisfactory e.g. sufficient space, good lighting, suitable seating and working area',\n",
       "       'WorkUnitViews. Topic:28. I was given the opportunity to mentor and coach others in order for me to pass on my skills and knowledge prior to my cessation date',\n",
       "       'WorkUnitViews. Topic:29. There was adequate communication between staff in my unit',\n",
       "       'WorkUnitViews. Topic:30. Staff morale was positive within my work unit',\n",
       "       'Induction. Did you undertake Workplace Induction?',\n",
       "       'InductionInfo. Topic:Did you undertake a Corporate Induction?',\n",
       "       'InductionInfo. Topic:Did you undertake a Institute Induction?',\n",
       "       'InductionInfo. Topic: Did you undertake Team Induction?',\n",
       "       'InductionInfo. Face to Face Topic:Did you undertake a Corporate Induction; Category:How it was conducted?',\n",
       "       'InductionInfo. On-line Topic:Did you undertake a Corporate Induction; Category:How it was conducted?',\n",
       "       'InductionInfo. Induction Manual Topic:Did you undertake a Corporate Induction?',\n",
       "       'InductionInfo. Face to Face Topic:Did you undertake a Institute Induction?',\n",
       "       'InductionInfo. On-line Topic:Did you undertake a Institute Induction?',\n",
       "       'InductionInfo. Induction Manual Topic:Did you undertake a Institute Induction?',\n",
       "       'InductionInfo. Face to Face Topic: Did you undertake Team Induction; Category?',\n",
       "       'InductionInfo. On-line Topic: Did you undertake Team Induction?process you undertook and how it was conducted.]',\n",
       "       'InductionInfo. Induction Manual Topic: Did you undertake Team Induction?',\n",
       "       'Workplace. Topic:Did you and your Manager develop a Performance and Professional Development Plan (PPDP)?',\n",
       "       'Workplace. Topic:Does your workplace promote a work culture free from all forms of unlawful discrimination?',\n",
       "       'Workplace. Topic:Does your workplace promote and practice the principles of employment equity?',\n",
       "       'Workplace. Topic:Does your workplace value the diversity of its employees?',\n",
       "       'Workplace. Topic:Would you recommend the Institute as an employer to others?',\n",
       "       'Gender. What is your Gender?', 'CurrentAge. Current Age',\n",
       "       'Employment Type. Employment Type', 'Classification. Classification',\n",
       "       'duration_employment',\n",
       "       'LengthofServiceCurrent. Length of Service at current workplace (in years)'],\n",
       "      dtype='object')"
      ]
     },
     "execution_count": 16,
     "metadata": {},
     "output_type": "execute_result"
    }
   ],
   "source": [
    "tafe_resigned.rename({\"LengthofServiceOverall. Overall Length of Service at Institute (in years)\": \"duration_employment\"}, axis=1, inplace=True)\n",
    "tafe_resigned.columns"
   ]
  },
  {
   "cell_type": "code",
   "execution_count": 17,
   "id": "fc2ea513-39bf-405f-a073-310f00257687",
   "metadata": {},
   "outputs": [
    {
     "data": {
      "text/plain": [
       "duration_employment\n",
       "Less than 1 year      73\n",
       "1-2                   64\n",
       "3-4                   63\n",
       "NaN                   50\n",
       "5-6                   33\n",
       "11-20                 26\n",
       "7-10                  21\n",
       "More than 20 years    10\n",
       "Name: count, dtype: int64"
      ]
     },
     "execution_count": 17,
     "metadata": {},
     "output_type": "execute_result"
    }
   ],
   "source": [
    "tafe_resigned.loc[tafe_resigned[\"duration_employment\"] == \"Not Stated\", \"duration_employment\"] = np.nan\n",
    "tafe_resigned[\"duration_employment\"].value_counts(dropna=False)"
   ]
  },
  {
   "cell_type": "code",
   "execution_count": 18,
   "id": "3088dd89-d407-46ec-8976-4641296f1910",
   "metadata": {},
   "outputs": [
    {
     "data": {
      "text/plain": [
       "Cease Date\n",
       "2012       126\n",
       "2013        74\n",
       "01/2014     22\n",
       "12/2013     17\n",
       "06/2013     14\n",
       "NaN         11\n",
       "09/2013     11\n",
       "07/2013      9\n",
       "11/2013      9\n",
       "10/2013      6\n",
       "08/2013      4\n",
       "05/2012      2\n",
       "05/2013      2\n",
       "09/2010      1\n",
       "07/2012      1\n",
       "2010         1\n",
       "07/2006      1\n",
       "Name: count, dtype: int64"
      ]
     },
     "execution_count": 18,
     "metadata": {},
     "output_type": "execute_result"
    }
   ],
   "source": [
    "dete_resigned.loc[dete_resigned[\"Cease Date\"] == \"Not Stated\", \"Cease Date\"] = np.nan\n",
    "dete_resigned[\"Cease Date\"].value_counts(dropna=False)"
   ]
  },
  {
   "cell_type": "code",
   "execution_count": 19,
   "id": "b444d579-bc22-4905-a4ec-e0a171b829d3",
   "metadata": {},
   "outputs": [],
   "source": [
    "dete_resigned[\"cease_date_year\"] = dete_resigned[\"Cease Date\"].str.split(\"/\").str[-1].astype(float)"
   ]
  },
  {
   "cell_type": "code",
   "execution_count": 20,
   "id": "a4040e5b-a3b7-4bd5-a2ee-3776484c7ed5",
   "metadata": {},
   "outputs": [
    {
     "data": {
      "text/plain": [
       "cease_date_year\n",
       "2013.0    146\n",
       "2012.0    129\n",
       "2014.0     22\n",
       "NaN        11\n",
       "2010.0      2\n",
       "2006.0      1\n",
       "Name: count, dtype: int64"
      ]
     },
     "execution_count": 20,
     "metadata": {},
     "output_type": "execute_result"
    }
   ],
   "source": [
    "dete_resigned[\"cease_date_year\"].value_counts(dropna=False)"
   ]
  },
  {
   "cell_type": "code",
   "execution_count": 21,
   "id": "e37abfb0-e587-42f6-920c-b1be9001a424",
   "metadata": {},
   "outputs": [
    {
     "data": {
      "text/plain": [
       "DETE Start Date\n",
       "NaN     28\n",
       "2011    24\n",
       "2008    22\n",
       "2012    21\n",
       "2007    21\n",
       "2010    17\n",
       "2005    15\n",
       "2004    14\n",
       "2006    13\n",
       "2009    13\n",
       "2013    10\n",
       "2000     9\n",
       "1999     8\n",
       "1994     6\n",
       "2003     6\n",
       "1992     6\n",
       "1996     6\n",
       "1998     6\n",
       "2002     6\n",
       "1990     5\n",
       "1997     5\n",
       "1980     5\n",
       "1993     5\n",
       "1989     4\n",
       "1991     4\n",
       "1988     4\n",
       "1995     4\n",
       "1986     3\n",
       "2001     3\n",
       "1985     3\n",
       "1983     2\n",
       "1976     2\n",
       "1974     2\n",
       "1975     1\n",
       "1984     1\n",
       "1971     1\n",
       "1982     1\n",
       "1972     1\n",
       "1963     1\n",
       "1977     1\n",
       "1973     1\n",
       "1987     1\n",
       "Name: count, dtype: int64"
      ]
     },
     "execution_count": 21,
     "metadata": {},
     "output_type": "execute_result"
    }
   ],
   "source": [
    "dete_resigned.loc[dete_resigned[\"DETE Start Date\"] == \"Not Stated\", \"DETE Start Date\"] = np.nan\n",
    "dete_resigned[\"DETE Start Date\"].value_counts(dropna=False)"
   ]
  },
  {
   "cell_type": "code",
   "execution_count": 22,
   "id": "11f794a0-127b-4779-95cb-11b8ae5df18b",
   "metadata": {},
   "outputs": [],
   "source": [
    "dete_resigned[\"start_date_year\"] = dete_resigned[\"DETE Start Date\"].astype(float)"
   ]
  },
  {
   "cell_type": "code",
   "execution_count": 23,
   "id": "fcde93dc-66d9-4127-9311-5f405b27a81e",
   "metadata": {},
   "outputs": [
    {
     "data": {
      "text/plain": [
       "years_employed\n",
       "NaN     38\n",
       "5.0     23\n",
       "1.0     22\n",
       "3.0     20\n",
       "0.0     20\n",
       "6.0     17\n",
       "4.0     16\n",
       "9.0     14\n",
       "2.0     14\n",
       "7.0     13\n",
       "13.0     8\n",
       "8.0      8\n",
       "20.0     7\n",
       "15.0     7\n",
       "17.0     6\n",
       "10.0     6\n",
       "22.0     6\n",
       "14.0     6\n",
       "12.0     6\n",
       "18.0     5\n",
       "16.0     5\n",
       "24.0     4\n",
       "11.0     4\n",
       "23.0     4\n",
       "21.0     3\n",
       "19.0     3\n",
       "39.0     3\n",
       "32.0     3\n",
       "25.0     2\n",
       "28.0     2\n",
       "26.0     2\n",
       "36.0     2\n",
       "30.0     2\n",
       "34.0     1\n",
       "29.0     1\n",
       "27.0     1\n",
       "42.0     1\n",
       "33.0     1\n",
       "41.0     1\n",
       "49.0     1\n",
       "35.0     1\n",
       "38.0     1\n",
       "31.0     1\n",
       "Name: count, dtype: int64"
      ]
     },
     "execution_count": 23,
     "metadata": {},
     "output_type": "execute_result"
    }
   ],
   "source": [
    "dete_resigned[\"years_employed\"] = dete_resigned[\"cease_date_year\"] - dete_resigned[\"start_date_year\"]\n",
    "dete_resigned[\"years_employed\"].value_counts(dropna=False)"
   ]
  },
  {
   "cell_type": "code",
   "execution_count": 24,
   "id": "c654c86f-82ff-4ead-9bc9-7ca60b9b04ab",
   "metadata": {},
   "outputs": [
    {
     "data": {
      "text/plain": [
       "duration_employment\n",
       "Less than 1 year      73\n",
       "1-2                   64\n",
       "3-4                   63\n",
       "NaN                   50\n",
       "5-6                   33\n",
       "11-20                 26\n",
       "7-10                  21\n",
       "More than 20 years    10\n",
       "Name: count, dtype: int64"
      ]
     },
     "execution_count": 24,
     "metadata": {},
     "output_type": "execute_result"
    }
   ],
   "source": [
    "tafe_resigned[\"duration_employment\"].value_counts(dropna=False)"
   ]
  },
  {
   "cell_type": "code",
   "execution_count": 25,
   "id": "38af066f-7c60-4a7d-9913-b7fc1c8dbc30",
   "metadata": {},
   "outputs": [
    {
     "data": {
      "text/plain": [
       "duration_employment\n",
       "11-20                 57\n",
       "More than 20 years    43\n",
       "7-10                  41\n",
       "5-6                   40\n",
       "NaN                   38\n",
       "1-2                   36\n",
       "3-4                   36\n",
       "Less than 1 year      20\n",
       "Name: count, dtype: int64"
      ]
     },
     "execution_count": 25,
     "metadata": {},
     "output_type": "execute_result"
    }
   ],
   "source": [
    "bins=[-1, 0, 2, 4, 6, 10, 20, np.inf]\n",
    "labels=[\"Less than 1 year\", \"1-2\", \"3-4\", \"5-6\", \"7-10\", \"11-20\", \"More than 20 years\"]\n",
    "dete_resigned[\"duration_employment\"] = pd.cut(dete_resigned[\"years_employed\"], bins=bins, labels=labels)\n",
    "dete_resigned[\"duration_employment\"].value_counts(dropna=False)"
   ]
  },
  {
   "cell_type": "markdown",
   "id": "40352c91-0049-447d-9f4b-389dcb1befab",
   "metadata": {},
   "source": [
    "We found an interesting difference. Most employees who resigned from DETE, worked there more than 11 years, while most employees who resigned from TAFE, worked there less than 2 years. In fact, the ordering of frequencies w.r.t. bins is almost inverted."
   ]
  },
  {
   "cell_type": "markdown",
   "id": "65681a83-8709-436b-b783-2074ba578185",
   "metadata": {},
   "source": [
    "Next, we need to look at columns detailing the reason for resignation:\n",
    "\n",
    "* `dete_resigned`: Boolean columns from 10 to 27\n",
    "* `tafe_resigned`: Columns starting with \"Contributing Factors.\" and \"Main Factor.\"\n",
    "\n",
    "Let us see whether these match, and how they are encoded."
   ]
  },
  {
   "cell_type": "code",
   "execution_count": 26,
   "id": "9cc1fa33-4554-4f4a-ad18-5d25d71639af",
   "metadata": {},
   "outputs": [
    {
     "data": {
      "text/plain": [
       "Index(['Career move to public sector', 'Career move to private sector',\n",
       "       'Interpersonal conflicts', 'Job dissatisfaction',\n",
       "       'Dissatisfaction with the department', 'Physical work environment',\n",
       "       'Lack of recognition', 'Lack of job security', 'Work location',\n",
       "       'Employment conditions', 'Maternity/family', 'Relocation',\n",
       "       'Study/Travel', 'Ill Health', 'Traumatic incident', 'Work life balance',\n",
       "       'Workload', 'None of the above'],\n",
       "      dtype='object')"
      ]
     },
     "execution_count": 26,
     "metadata": {},
     "output_type": "execute_result"
    }
   ],
   "source": [
    "dete_resigned.columns[10:28]"
   ]
  },
  {
   "cell_type": "code",
   "execution_count": 27,
   "id": "923bb656-d617-4e5a-8c7a-a97a55b527d2",
   "metadata": {},
   "outputs": [
    {
     "data": {
      "text/plain": [
       "Index(['Contributing Factors. Career Move - Public Sector ',\n",
       "       'Contributing Factors. Career Move - Private Sector ',\n",
       "       'Contributing Factors. Career Move - Self-employment',\n",
       "       'Contributing Factors. Ill Health',\n",
       "       'Contributing Factors. Maternity/Family',\n",
       "       'Contributing Factors. Dissatisfaction',\n",
       "       'Contributing Factors. Job Dissatisfaction',\n",
       "       'Contributing Factors. Interpersonal Conflict',\n",
       "       'Contributing Factors. Study', 'Contributing Factors. Travel',\n",
       "       'Contributing Factors. Other', 'Contributing Factors. NONE'],\n",
       "      dtype='object')"
      ]
     },
     "execution_count": 27,
     "metadata": {},
     "output_type": "execute_result"
    }
   ],
   "source": [
    "tafe_resigned.columns[tafe_resigned.columns.str.startswith(\"Contributing Factors.\")]"
   ]
  },
  {
   "cell_type": "code",
   "execution_count": 28,
   "id": "d49188c8-1821-47df-8dc1-bbb6ebea5609",
   "metadata": {},
   "outputs": [
    {
     "data": {
      "text/plain": [
       "Contributing Factors. Career Move - Public Sector \n",
       "-                              284\n",
       "Career Move - Public Sector     48\n",
       "NaN                              8\n",
       "Name: count, dtype: int64"
      ]
     },
     "execution_count": 28,
     "metadata": {},
     "output_type": "execute_result"
    }
   ],
   "source": [
    "tafe_resigned.iloc[:, 5].value_counts(dropna=False)"
   ]
  },
  {
   "cell_type": "code",
   "execution_count": 29,
   "id": "1dc98581-f55c-41fb-8853-55ab93d00f29",
   "metadata": {},
   "outputs": [
    {
     "data": {
      "text/plain": [
       "Contributing Factors. Career Move - Private Sector \n",
       "-                               233\n",
       "Career Move - Private Sector     99\n",
       "NaN                               8\n",
       "Name: count, dtype: int64"
      ]
     },
     "execution_count": 29,
     "metadata": {},
     "output_type": "execute_result"
    }
   ],
   "source": [
    "tafe_resigned.iloc[:, 6].value_counts(dropna=False)"
   ]
  },
  {
   "cell_type": "markdown",
   "id": "d942b705-9ccc-4a1b-be14-83458f518537",
   "metadata": {},
   "source": [
    "The encoding of these columns in `tafe_resigned` is odd. It seems that \"-\" maps to `False`, the other string maps to `True`. Let us convert these values to booleans, as in `dete_resigned`."
   ]
  },
  {
   "cell_type": "code",
   "execution_count": 30,
   "id": "2b6e3655-bbef-4ce0-91eb-56e0c7b3613a",
   "metadata": {},
   "outputs": [
    {
     "data": {
      "text/plain": [
       "Index(['Contributing Factors. Career Move - Public Sector ',\n",
       "       'Contributing Factors. Career Move - Private Sector ',\n",
       "       'Contributing Factors. Career Move - Self-employment',\n",
       "       'Contributing Factors. Ill Health',\n",
       "       'Contributing Factors. Maternity/Family',\n",
       "       'Contributing Factors. Dissatisfaction',\n",
       "       'Contributing Factors. Job Dissatisfaction',\n",
       "       'Contributing Factors. Interpersonal Conflict',\n",
       "       'Contributing Factors. Study', 'Contributing Factors. Travel',\n",
       "       'Contributing Factors. Other', 'Contributing Factors. NONE'],\n",
       "      dtype='object')"
      ]
     },
     "execution_count": 30,
     "metadata": {},
     "output_type": "execute_result"
    }
   ],
   "source": [
    "slice = tafe_resigned.iloc[:, 5:17].copy()\n",
    "slice.columns"
   ]
  },
  {
   "cell_type": "code",
   "execution_count": 37,
   "id": "c72eede6-b873-4abb-9a63-7fef9e91e8d5",
   "metadata": {},
   "outputs": [],
   "source": [
    "# Map non-missing values to `True`, then all \"-\" values to `False`\n",
    "slice_new = slice.where(slice.isnull(), True).where(slice != \"-\", False)"
   ]
  },
  {
   "cell_type": "code",
   "execution_count": 38,
   "id": "8931aee9-b58e-45e2-999c-d90135f2899f",
   "metadata": {},
   "outputs": [
    {
     "data": {
      "text/plain": [
       "Contributing Factors. Career Move - Public Sector \n",
       "False    284\n",
       "True      48\n",
       "NaN        8\n",
       "Name: count, dtype: int64"
      ]
     },
     "execution_count": 38,
     "metadata": {},
     "output_type": "execute_result"
    }
   ],
   "source": [
    "slice_new.iloc[:, 0].value_counts(dropna=False)"
   ]
  },
  {
   "cell_type": "code",
   "execution_count": 39,
   "id": "6bb084c7-1ddc-4145-bc0b-a9feb6535a03",
   "metadata": {},
   "outputs": [
    {
     "data": {
      "text/html": [
       "<div>\n",
       "<style scoped>\n",
       "    .dataframe tbody tr th:only-of-type {\n",
       "        vertical-align: middle;\n",
       "    }\n",
       "\n",
       "    .dataframe tbody tr th {\n",
       "        vertical-align: top;\n",
       "    }\n",
       "\n",
       "    .dataframe thead th {\n",
       "        text-align: right;\n",
       "    }\n",
       "</style>\n",
       "<table border=\"1\" class=\"dataframe\">\n",
       "  <thead>\n",
       "    <tr style=\"text-align: right;\">\n",
       "      <th></th>\n",
       "      <th>Contributing Factors. Career Move - Public Sector</th>\n",
       "      <th>Contributing Factors. Career Move - Private Sector</th>\n",
       "      <th>Contributing Factors. Career Move - Self-employment</th>\n",
       "      <th>Contributing Factors. Ill Health</th>\n",
       "      <th>Contributing Factors. Maternity/Family</th>\n",
       "      <th>Contributing Factors. Dissatisfaction</th>\n",
       "      <th>Contributing Factors. Job Dissatisfaction</th>\n",
       "      <th>Contributing Factors. Interpersonal Conflict</th>\n",
       "      <th>Contributing Factors. Study</th>\n",
       "      <th>Contributing Factors. Travel</th>\n",
       "      <th>Contributing Factors. Other</th>\n",
       "      <th>Contributing Factors. NONE</th>\n",
       "    </tr>\n",
       "  </thead>\n",
       "  <tbody>\n",
       "    <tr>\n",
       "      <th>3</th>\n",
       "      <td>False</td>\n",
       "      <td>False</td>\n",
       "      <td>False</td>\n",
       "      <td>False</td>\n",
       "      <td>False</td>\n",
       "      <td>False</td>\n",
       "      <td>False</td>\n",
       "      <td>False</td>\n",
       "      <td>False</td>\n",
       "      <td>True</td>\n",
       "      <td>False</td>\n",
       "      <td>False</td>\n",
       "    </tr>\n",
       "    <tr>\n",
       "      <th>4</th>\n",
       "      <td>False</td>\n",
       "      <td>True</td>\n",
       "      <td>False</td>\n",
       "      <td>False</td>\n",
       "      <td>False</td>\n",
       "      <td>False</td>\n",
       "      <td>False</td>\n",
       "      <td>False</td>\n",
       "      <td>False</td>\n",
       "      <td>False</td>\n",
       "      <td>False</td>\n",
       "      <td>False</td>\n",
       "    </tr>\n",
       "    <tr>\n",
       "      <th>5</th>\n",
       "      <td>False</td>\n",
       "      <td>False</td>\n",
       "      <td>False</td>\n",
       "      <td>False</td>\n",
       "      <td>False</td>\n",
       "      <td>False</td>\n",
       "      <td>False</td>\n",
       "      <td>False</td>\n",
       "      <td>False</td>\n",
       "      <td>False</td>\n",
       "      <td>True</td>\n",
       "      <td>False</td>\n",
       "    </tr>\n",
       "    <tr>\n",
       "      <th>6</th>\n",
       "      <td>False</td>\n",
       "      <td>True</td>\n",
       "      <td>False</td>\n",
       "      <td>False</td>\n",
       "      <td>True</td>\n",
       "      <td>False</td>\n",
       "      <td>False</td>\n",
       "      <td>False</td>\n",
       "      <td>False</td>\n",
       "      <td>False</td>\n",
       "      <td>True</td>\n",
       "      <td>False</td>\n",
       "    </tr>\n",
       "    <tr>\n",
       "      <th>7</th>\n",
       "      <td>False</td>\n",
       "      <td>False</td>\n",
       "      <td>False</td>\n",
       "      <td>False</td>\n",
       "      <td>False</td>\n",
       "      <td>False</td>\n",
       "      <td>False</td>\n",
       "      <td>False</td>\n",
       "      <td>False</td>\n",
       "      <td>False</td>\n",
       "      <td>True</td>\n",
       "      <td>False</td>\n",
       "    </tr>\n",
       "  </tbody>\n",
       "</table>\n",
       "</div>"
      ],
      "text/plain": [
       "  Contributing Factors. Career Move - Public Sector   \\\n",
       "3                                              False   \n",
       "4                                              False   \n",
       "5                                              False   \n",
       "6                                              False   \n",
       "7                                              False   \n",
       "\n",
       "  Contributing Factors. Career Move - Private Sector   \\\n",
       "3                                              False    \n",
       "4                                               True    \n",
       "5                                              False    \n",
       "6                                               True    \n",
       "7                                              False    \n",
       "\n",
       "  Contributing Factors. Career Move - Self-employment  \\\n",
       "3                                              False    \n",
       "4                                              False    \n",
       "5                                              False    \n",
       "6                                              False    \n",
       "7                                              False    \n",
       "\n",
       "  Contributing Factors. Ill Health Contributing Factors. Maternity/Family  \\\n",
       "3                            False                                  False   \n",
       "4                            False                                  False   \n",
       "5                            False                                  False   \n",
       "6                            False                                   True   \n",
       "7                            False                                  False   \n",
       "\n",
       "  Contributing Factors. Dissatisfaction  \\\n",
       "3                                 False   \n",
       "4                                 False   \n",
       "5                                 False   \n",
       "6                                 False   \n",
       "7                                 False   \n",
       "\n",
       "  Contributing Factors. Job Dissatisfaction  \\\n",
       "3                                     False   \n",
       "4                                     False   \n",
       "5                                     False   \n",
       "6                                     False   \n",
       "7                                     False   \n",
       "\n",
       "  Contributing Factors. Interpersonal Conflict Contributing Factors. Study  \\\n",
       "3                                        False                       False   \n",
       "4                                        False                       False   \n",
       "5                                        False                       False   \n",
       "6                                        False                       False   \n",
       "7                                        False                       False   \n",
       "\n",
       "  Contributing Factors. Travel Contributing Factors. Other  \\\n",
       "3                         True                       False   \n",
       "4                        False                       False   \n",
       "5                        False                        True   \n",
       "6                        False                        True   \n",
       "7                        False                        True   \n",
       "\n",
       "  Contributing Factors. NONE  \n",
       "3                      False  \n",
       "4                      False  \n",
       "5                      False  \n",
       "6                      False  \n",
       "7                      False  "
      ]
     },
     "execution_count": 39,
     "metadata": {},
     "output_type": "execute_result"
    }
   ],
   "source": [
    "tafe_resigned.iloc[:, 5:17] = slice_new\n",
    "tafe_resigned.iloc[:, 5:17].head()"
   ]
  },
  {
   "cell_type": "code",
   "execution_count": 42,
   "id": "b6860170-6eef-4678-a43e-868201e2348d",
   "metadata": {},
   "outputs": [],
   "source": [
    "# These are factors we find in both surveys:\n",
    "common_names = [\n",
    "    \"career_move_public_sector\",\n",
    "    \"career_move_private_sector\",\n",
    "    \"ill_health\",\n",
    "    \"interpersonal_conflict\",\n",
    "    \"job_dissatisfaction\",\n",
    "    \"maternity_family\",\n",
    "    \"study_travel\",\n",
    "]\n",
    "\n",
    "# Let us relabel these column names\n",
    "dete_names = [\n",
    "    \"Career move to public sector\",\n",
    "    \"Career move to private sector\",\n",
    "    \"Ill Health\",\n",
    "    \"Interpersonal conflicts\",\n",
    "    \"Job dissatisfaction\",\n",
    "    \"Maternity/family\",\n",
    "    \"Study/Travel\",    \n",
    "]\n",
    "dete_map = dict(zip(dete_names, common_names))\n",
    "dete_resigned.rename(dete_map, axis=1, inplace=True)\n",
    "\n",
    "tafe_names = [\n",
    "    'Contributing Factors. Career Move - Public Sector ',\n",
    "    'Contributing Factors. Career Move - Private Sector ',\n",
    "    'Contributing Factors. Ill Health',\n",
    "    'Contributing Factors. Interpersonal Conflict',\n",
    "    'Contributing Factors. Job Dissatisfaction',\n",
    "    'Contributing Factors. Maternity/Family',\n",
    "]\n",
    "tafe_map = dict(zip(tafe_names, common_names[:-1]))\n",
    "tafe_resigned.rename(tafe_map, axis=1, inplace=True)\n",
    "tafe_resigned[common_names[-1]] = tafe_resigned['Contributing Factors. Study'] | tafe_resigned['Contributing Factors. Travel']"
   ]
  },
  {
   "cell_type": "code",
   "execution_count": 43,
   "id": "dd63fe36-9806-4e0b-8ae1-94ceaef41e0b",
   "metadata": {},
   "outputs": [
    {
     "data": {
      "text/plain": [
       "Index(['ID', 'SeparationType', 'Cease Date', 'DETE Start Date',\n",
       "       'Role Start Date', 'Position', 'Classification', 'Region',\n",
       "       'Business Unit', 'Employment Status', 'career_move_public_sector',\n",
       "       'career_move_private_sector', 'interpersonal_conflict',\n",
       "       'job_dissatisfaction', 'Dissatisfaction with the department',\n",
       "       'Physical work environment', 'Lack of recognition',\n",
       "       'Lack of job security', 'Work location', 'Employment conditions',\n",
       "       'maternity_family', 'Relocation', 'study_travel', 'ill_health',\n",
       "       'Traumatic incident', 'Work life balance', 'Workload',\n",
       "       'None of the above', 'Professional Development',\n",
       "       'Opportunities for promotion', 'Staff morale', 'Workplace issue',\n",
       "       'Physical environment', 'Worklife balance',\n",
       "       'Stress and pressure support', 'Performance of supervisor',\n",
       "       'Peer support', 'Initiative', 'Skills', 'Coach', 'Career Aspirations',\n",
       "       'Feedback', 'Further PD', 'Communication', 'My say', 'Information',\n",
       "       'Kept informed', 'Wellness programs', 'Health & Safety', 'Gender',\n",
       "       'Age', 'Aboriginal', 'Torres Strait', 'South Sea', 'Disability', 'NESB',\n",
       "       'cease_date_year', 'start_date_year', 'years_employed',\n",
       "       'duration_employment'],\n",
       "      dtype='object')"
      ]
     },
     "execution_count": 43,
     "metadata": {},
     "output_type": "execute_result"
    }
   ],
   "source": [
    "dete_resigned.columns"
   ]
  },
  {
   "cell_type": "code",
   "execution_count": 44,
   "id": "e24036c8-3a85-40d0-808a-260d99c918cd",
   "metadata": {},
   "outputs": [
    {
     "data": {
      "text/plain": [
       "Index(['Record ID', 'Institute', 'WorkArea', 'CESSATION YEAR',\n",
       "       'Reason for ceasing employment', 'career_move_public_sector',\n",
       "       'career_move_private_sector',\n",
       "       'Contributing Factors. Career Move - Self-employment', 'ill_health',\n",
       "       'maternity_family', 'Contributing Factors. Dissatisfaction',\n",
       "       'job_dissatisfaction', 'interpersonal_conflict',\n",
       "       'Contributing Factors. Study', 'Contributing Factors. Travel',\n",
       "       'Contributing Factors. Other', 'Contributing Factors. NONE',\n",
       "       'Main Factor. Which of these was the main factor for leaving?',\n",
       "       'InstituteViews. Topic:1. I feel the senior leadership had a clear vision and direction',\n",
       "       'InstituteViews. Topic:2. I was given access to skills training to help me do my job better',\n",
       "       'InstituteViews. Topic:3. I was given adequate opportunities for personal development',\n",
       "       'InstituteViews. Topic:4. I was given adequate opportunities for promotion within %Institute]Q25LBL%',\n",
       "       'InstituteViews. Topic:5. I felt the salary for the job was right for the responsibilities I had',\n",
       "       'InstituteViews. Topic:6. The organisation recognised when staff did good work',\n",
       "       'InstituteViews. Topic:7. Management was generally supportive of me',\n",
       "       'InstituteViews. Topic:8. Management was generally supportive of my team',\n",
       "       'InstituteViews. Topic:9. I was kept informed of the changes in the organisation which would affect me',\n",
       "       'InstituteViews. Topic:10. Staff morale was positive within the Institute',\n",
       "       'InstituteViews. Topic:11. If I had a workplace issue it was dealt with quickly',\n",
       "       'InstituteViews. Topic:12. If I had a workplace issue it was dealt with efficiently',\n",
       "       'InstituteViews. Topic:13. If I had a workplace issue it was dealt with discreetly',\n",
       "       'WorkUnitViews. Topic:14. I was satisfied with the quality of the management and supervision within my work unit',\n",
       "       'WorkUnitViews. Topic:15. I worked well with my colleagues',\n",
       "       'WorkUnitViews. Topic:16. My job was challenging and interesting',\n",
       "       'WorkUnitViews. Topic:17. I was encouraged to use my initiative in the course of my work',\n",
       "       'WorkUnitViews. Topic:18. I had sufficient contact with other people in my job',\n",
       "       'WorkUnitViews. Topic:19. I was given adequate support and co-operation by my peers to enable me to do my job',\n",
       "       'WorkUnitViews. Topic:20. I was able to use the full range of my skills in my job',\n",
       "       'WorkUnitViews. Topic:21. I was able to use the full range of my abilities in my job. ; Category:Level of Agreement; Question:YOUR VIEWS ABOUT YOUR WORK UNIT]',\n",
       "       'WorkUnitViews. Topic:22. I was able to use the full range of my knowledge in my job',\n",
       "       'WorkUnitViews. Topic:23. My job provided sufficient variety',\n",
       "       'WorkUnitViews. Topic:24. I was able to cope with the level of stress and pressure in my job',\n",
       "       'WorkUnitViews. Topic:25. My job allowed me to balance the demands of work and family to my satisfaction',\n",
       "       'WorkUnitViews. Topic:26. My supervisor gave me adequate personal recognition and feedback on my performance',\n",
       "       'WorkUnitViews. Topic:27. My working environment was satisfactory e.g. sufficient space, good lighting, suitable seating and working area',\n",
       "       'WorkUnitViews. Topic:28. I was given the opportunity to mentor and coach others in order for me to pass on my skills and knowledge prior to my cessation date',\n",
       "       'WorkUnitViews. Topic:29. There was adequate communication between staff in my unit',\n",
       "       'WorkUnitViews. Topic:30. Staff morale was positive within my work unit',\n",
       "       'Induction. Did you undertake Workplace Induction?',\n",
       "       'InductionInfo. Topic:Did you undertake a Corporate Induction?',\n",
       "       'InductionInfo. Topic:Did you undertake a Institute Induction?',\n",
       "       'InductionInfo. Topic: Did you undertake Team Induction?',\n",
       "       'InductionInfo. Face to Face Topic:Did you undertake a Corporate Induction; Category:How it was conducted?',\n",
       "       'InductionInfo. On-line Topic:Did you undertake a Corporate Induction; Category:How it was conducted?',\n",
       "       'InductionInfo. Induction Manual Topic:Did you undertake a Corporate Induction?',\n",
       "       'InductionInfo. Face to Face Topic:Did you undertake a Institute Induction?',\n",
       "       'InductionInfo. On-line Topic:Did you undertake a Institute Induction?',\n",
       "       'InductionInfo. Induction Manual Topic:Did you undertake a Institute Induction?',\n",
       "       'InductionInfo. Face to Face Topic: Did you undertake Team Induction; Category?',\n",
       "       'InductionInfo. On-line Topic: Did you undertake Team Induction?process you undertook and how it was conducted.]',\n",
       "       'InductionInfo. Induction Manual Topic: Did you undertake Team Induction?',\n",
       "       'Workplace. Topic:Did you and your Manager develop a Performance and Professional Development Plan (PPDP)?',\n",
       "       'Workplace. Topic:Does your workplace promote a work culture free from all forms of unlawful discrimination?',\n",
       "       'Workplace. Topic:Does your workplace promote and practice the principles of employment equity?',\n",
       "       'Workplace. Topic:Does your workplace value the diversity of its employees?',\n",
       "       'Workplace. Topic:Would you recommend the Institute as an employer to others?',\n",
       "       'Gender. What is your Gender?', 'CurrentAge. Current Age',\n",
       "       'Employment Type. Employment Type', 'Classification. Classification',\n",
       "       'duration_employment',\n",
       "       'LengthofServiceCurrent. Length of Service at current workplace (in years)',\n",
       "       'study_travel'],\n",
       "      dtype='object')"
      ]
     },
     "execution_count": 44,
     "metadata": {},
     "output_type": "execute_result"
    }
   ],
   "source": [
    "tafe_resigned.columns"
   ]
  },
  {
   "cell_type": "markdown",
   "id": "429b8906-11e8-40b6-a1d1-a07714765e9c",
   "metadata": {},
   "source": [
    "There are additional reasons listed in `dete_resigned`, but not in `tafe_resigned`."
   ]
  },
  {
   "cell_type": "code",
   "execution_count": 46,
   "id": "653c275f-351f-428c-9d52-3c6a11e0b24d",
   "metadata": {},
   "outputs": [
    {
     "data": {
      "text/plain": [
       "Index(['career_move_public_sector', 'career_move_private_sector',\n",
       "       'interpersonal_conflict', 'job_dissatisfaction',\n",
       "       'Dissatisfaction with the department', 'Physical work environment',\n",
       "       'Lack of recognition', 'Lack of job security', 'Work location',\n",
       "       'Employment conditions', 'maternity_family', 'Relocation',\n",
       "       'study_travel', 'ill_health', 'Traumatic incident', 'Work life balance',\n",
       "       'Workload', 'None of the above'],\n",
       "      dtype='object')"
      ]
     },
     "execution_count": 46,
     "metadata": {},
     "output_type": "execute_result"
    }
   ],
   "source": [
    "dete_resigned.columns[10:28]"
   ]
  },
  {
   "cell_type": "code",
   "execution_count": 47,
   "id": "7b48fca5-b002-4998-9984-fdf20a811395",
   "metadata": {},
   "outputs": [
    {
     "data": {
      "text/plain": [
       "['career_move_public_sector',\n",
       " 'career_move_private_sector',\n",
       " 'ill_health',\n",
       " 'interpersonal_conflict',\n",
       " 'job_dissatisfaction',\n",
       " 'maternity_family',\n",
       " 'study_travel']"
      ]
     },
     "execution_count": 47,
     "metadata": {},
     "output_type": "execute_result"
    }
   ],
   "source": [
    "common_names"
   ]
  },
  {
   "cell_type": "code",
   "execution_count": 48,
   "id": "15cf1f97-3916-4d4d-870f-f7aa5c43ee28",
   "metadata": {},
   "outputs": [
    {
     "data": {
      "text/plain": [
       "Index(['Dissatisfaction with the department', 'Physical work environment',\n",
       "       'Lack of recognition', 'Lack of job security', 'Work location',\n",
       "       'Employment conditions', 'Relocation', 'Traumatic incident',\n",
       "       'Work life balance', 'Workload', 'None of the above'],\n",
       "      dtype='object')"
      ]
     },
     "execution_count": 48,
     "metadata": {},
     "output_type": "execute_result"
    }
   ],
   "source": [
    "dete_resigned.columns[[14, 15, 16, 17, 18, 19, 21, 24, 25, 26, 27]]"
   ]
  },
  {
   "cell_type": "code",
   "execution_count": 49,
   "id": "11c966ac-c182-4345-98b2-d0668d641b9e",
   "metadata": {},
   "outputs": [
    {
     "data": {
      "text/plain": [
       "Index(['Contributing Factors. Career Move - Self-employment',\n",
       "       'Contributing Factors. Dissatisfaction', 'Contributing Factors. NONE'],\n",
       "      dtype='object')"
      ]
     },
     "execution_count": 49,
     "metadata": {},
     "output_type": "execute_result"
    }
   ],
   "source": [
    "tafe_resigned.columns[[7, 10, 16]]"
   ]
  },
  {
   "cell_type": "markdown",
   "id": "b992665a-276e-4a60-8875-621d88c98982",
   "metadata": {},
   "source": [
    "On the other hand, the TAFE survey contains a number of questions which are closely related to additional reasons in the DETE survey."
   ]
  },
  {
   "cell_type": "code",
   "execution_count": 56,
   "id": "1d546bbb-68fa-41b0-9810-3ffe83c68759",
   "metadata": {},
   "outputs": [
    {
     "data": {
      "text/plain": [
       "[(18,\n",
       "  'InstituteViews. Topic:1. I feel the senior leadership had a clear vision and direction'),\n",
       " (19,\n",
       "  'InstituteViews. Topic:2. I was given access to skills training to help me do my job better'),\n",
       " (20,\n",
       "  'InstituteViews. Topic:3. I was given adequate opportunities for personal development'),\n",
       " (21,\n",
       "  'InstituteViews. Topic:4. I was given adequate opportunities for promotion within %Institute]Q25LBL%'),\n",
       " (22,\n",
       "  'InstituteViews. Topic:5. I felt the salary for the job was right for the responsibilities I had'),\n",
       " (23,\n",
       "  'InstituteViews. Topic:6. The organisation recognised when staff did good work'),\n",
       " (24, 'InstituteViews. Topic:7. Management was generally supportive of me'),\n",
       " (25,\n",
       "  'InstituteViews. Topic:8. Management was generally supportive of my team'),\n",
       " (26,\n",
       "  'InstituteViews. Topic:9. I was kept informed of the changes in the organisation which would affect me'),\n",
       " (27,\n",
       "  'InstituteViews. Topic:10. Staff morale was positive within the Institute'),\n",
       " (28,\n",
       "  'InstituteViews. Topic:11. If I had a workplace issue it was dealt with quickly'),\n",
       " (29,\n",
       "  'InstituteViews. Topic:12. If I had a workplace issue it was dealt with efficiently'),\n",
       " (30,\n",
       "  'InstituteViews. Topic:13. If I had a workplace issue it was dealt with discreetly'),\n",
       " (31,\n",
       "  'WorkUnitViews. Topic:14. I was satisfied with the quality of the management and supervision within my work unit'),\n",
       " (32, 'WorkUnitViews. Topic:15. I worked well with my colleagues'),\n",
       " (33, 'WorkUnitViews. Topic:16. My job was challenging and interesting'),\n",
       " (34,\n",
       "  'WorkUnitViews. Topic:17. I was encouraged to use my initiative in the course of my work'),\n",
       " (35,\n",
       "  'WorkUnitViews. Topic:18. I had sufficient contact with other people in my job'),\n",
       " (36,\n",
       "  'WorkUnitViews. Topic:19. I was given adequate support and co-operation by my peers to enable me to do my job'),\n",
       " (37,\n",
       "  'WorkUnitViews. Topic:20. I was able to use the full range of my skills in my job'),\n",
       " (38,\n",
       "  'WorkUnitViews. Topic:21. I was able to use the full range of my abilities in my job. ; Category:Level of Agreement; Question:YOUR VIEWS ABOUT YOUR WORK UNIT]'),\n",
       " (39,\n",
       "  'WorkUnitViews. Topic:22. I was able to use the full range of my knowledge in my job'),\n",
       " (40, 'WorkUnitViews. Topic:23. My job provided sufficient variety'),\n",
       " (41,\n",
       "  'WorkUnitViews. Topic:24. I was able to cope with the level of stress and pressure in my job'),\n",
       " (42,\n",
       "  'WorkUnitViews. Topic:25. My job allowed me to balance the demands of work and family to my satisfaction'),\n",
       " (43,\n",
       "  'WorkUnitViews. Topic:26. My supervisor gave me adequate personal recognition and feedback on my performance'),\n",
       " (44,\n",
       "  'WorkUnitViews. Topic:27. My working environment was satisfactory e.g. sufficient space, good lighting, suitable seating and working area'),\n",
       " (45,\n",
       "  'WorkUnitViews. Topic:28. I was given the opportunity to mentor and coach others in order for me to pass on my skills and knowledge prior to my cessation date'),\n",
       " (46,\n",
       "  'WorkUnitViews. Topic:29. There was adequate communication between staff in my unit'),\n",
       " (47,\n",
       "  'WorkUnitViews. Topic:30. Staff morale was positive within my work unit')]"
      ]
     },
     "execution_count": 56,
     "metadata": {},
     "output_type": "execute_result"
    }
   ],
   "source": [
    "list(zip(range(18, 48), tafe_resigned.columns[18:48]))"
   ]
  },
  {
   "cell_type": "code",
   "execution_count": 53,
   "id": "f9fdb567-8a0e-4635-beab-2f539ef72c2b",
   "metadata": {},
   "outputs": [
    {
     "data": {
      "text/plain": [
       "InstituteViews. Topic:1. I feel the senior leadership had a clear vision and direction\n",
       "Agree                109\n",
       "Neutral               76\n",
       "Strongly Agree        48\n",
       "NaN                   44\n",
       "Disagree              34\n",
       "Strongly Disagree     26\n",
       "Not Applicable         3\n",
       "Name: count, dtype: int64"
      ]
     },
     "execution_count": 53,
     "metadata": {},
     "output_type": "execute_result"
    }
   ],
   "source": [
    "tafe_resigned.iloc[:, 18].value_counts(dropna=False)"
   ]
  },
  {
   "cell_type": "markdown",
   "id": "549601c5-e28d-435e-8d39-dfc9abde1261",
   "metadata": {},
   "source": [
    "Say we can pair a DETE reason for resigning with one or more questions in the TAFE survey, in the sense that the DETE reason is `True` if at least one of the questions is answered \"Disagree\" or \"Strongly Disagree\". In this case, we extend the TAFE data by this new reason, and rename the column in the DETE survey."
   ]
  },
  {
   "cell_type": "code",
   "execution_count": 54,
   "id": "f090bbbb-767b-4490-b69a-81ad0afaa12d",
   "metadata": {},
   "outputs": [
    {
     "data": {
      "text/plain": [
       "InstituteViews. Topic:1. I feel the senior leadership had a clear vision and direction\n",
       "False    236\n",
       "True      60\n",
       "NaN       44\n",
       "Name: count, dtype: int64"
      ]
     },
     "execution_count": 54,
     "metadata": {},
     "output_type": "execute_result"
    }
   ],
   "source": [
    "tafe_resigned.iloc[:, 18].str.contains(\"Disagree\").value_counts(dropna=False)"
   ]
  },
  {
   "cell_type": "code",
   "execution_count": 65,
   "id": "7aa37fee-1af1-4d57-a449-b2241540684f",
   "metadata": {},
   "outputs": [],
   "source": [
    "def create_tafe_reason_resigning(dete_name, tafe_ilocs, new_name):\n",
    "    tafe_disagree = tafe_resigned.iloc[:, tafe_ilocs].apply(lambda s: s.str.contains(\"Disagree\"))\n",
    "    tafe_resigned[new_name] = tafe_disagree.any(axis=1)\n",
    "    dete_resigned.rename({dete_name: new_name}, axis=1, inplace=True)"
   ]
  },
  {
   "cell_type": "code",
   "execution_count": 66,
   "id": "0bfbe9ac-d813-42e6-914b-1a1c6585934a",
   "metadata": {},
   "outputs": [],
   "source": [
    "extra_tafe_reasons = [\n",
    "    (\n",
    "        \"Physical work environment\",\n",
    "        [44],\n",
    "        \"work_environment\",\n",
    "    ),\n",
    "    (\n",
    "        \"Lack of recognition\",\n",
    "        [23, 43],\n",
    "        \"lack_recognition\",\n",
    "    ),\n",
    "    (\n",
    "        \"Work life balance\",\n",
    "        [41, 42],\n",
    "        \"work_life_balance\",\n",
    "    ),\n",
    "]\n",
    "\n",
    "for dete_name, tafe_ilocs, new_name in extra_tafe_reasons:\n",
    "    create_tafe_reason_resigning(dete_name, tafe_ilocs, new_name)\n",
    "\n",
    "common_names = common_names + [x[-1] for x in extra_tafe_reasons]"
   ]
  },
  {
   "cell_type": "code",
   "execution_count": 67,
   "id": "182f0047-655a-43aa-b792-4976b48e43d2",
   "metadata": {},
   "outputs": [
    {
     "data": {
      "text/plain": [
       "['career_move_public_sector',\n",
       " 'career_move_private_sector',\n",
       " 'ill_health',\n",
       " 'interpersonal_conflict',\n",
       " 'job_dissatisfaction',\n",
       " 'maternity_family',\n",
       " 'study_travel',\n",
       " 'work_environment',\n",
       " 'lack_recognition',\n",
       " 'work_life_balance']"
      ]
     },
     "execution_count": 67,
     "metadata": {},
     "output_type": "execute_result"
    }
   ],
   "source": [
    "common_names"
   ]
  },
  {
   "cell_type": "markdown",
   "id": "53110ab1-91f3-4941-a5b8-a2ff262085ea",
   "metadata": {},
   "source": [
    "A first coarse answer to the question can be obtained by labeling each employee (who resigned) as dissatisfied or not."
   ]
  },
  {
   "cell_type": "code",
   "execution_count": 70,
   "id": "6a4ad7a2-9de2-4e4e-8038-0c53ac455387",
   "metadata": {},
   "outputs": [],
   "source": [
    "common_dissatisfied_names = ['job_dissatisfaction', 'work_environment', 'lack_recognition', 'work_life_balance']\n",
    "dete_dissatisfied_names = common_dissatisfied_names + [\n",
    "    'Lack of job security', 'Work location', 'Employment conditions', 'Workload',\n",
    "]\n",
    "tafe_dissatisfied_names = common_dissatisfied_names + ['Contributing Factors. Dissatisfaction']\n",
    "\n",
    "dete_resigned[\"dissatisfied\"] = dete_resigned.loc[:, dete_dissatisfied_names].any(axis=1)\n",
    "tafe_resigned[\"dissatisfied\"] = tafe_resigned.loc[:, tafe_dissatisfied_names].any(axis=1)"
   ]
  },
  {
   "cell_type": "code",
   "execution_count": 71,
   "id": "944c19cb-cf51-42ba-b28d-89767ab6368c",
   "metadata": {},
   "outputs": [
    {
     "data": {
      "text/plain": [
       "dissatisfied\n",
       "False    167\n",
       "True     144\n",
       "Name: count, dtype: int64"
      ]
     },
     "execution_count": 71,
     "metadata": {},
     "output_type": "execute_result"
    }
   ],
   "source": [
    "dete_resigned[\"dissatisfied\"].value_counts(dropna=False)"
   ]
  },
  {
   "cell_type": "code",
   "execution_count": 72,
   "id": "6db890b2-81b7-4dd1-9bcb-a79428668073",
   "metadata": {},
   "outputs": [
    {
     "data": {
      "text/plain": [
       "dissatisfied\n",
       "False    178\n",
       "True     162\n",
       "Name: count, dtype: int64"
      ]
     },
     "execution_count": 72,
     "metadata": {},
     "output_type": "execute_result"
    }
   ],
   "source": [
    "tafe_resigned[\"dissatisfied\"].value_counts(dropna=False)"
   ]
  },
  {
   "cell_type": "code",
   "execution_count": 118,
   "id": "863c1051-c7de-4829-88d0-5ec12855537b",
   "metadata": {},
   "outputs": [
    {
     "data": {
      "text/html": [
       "<div>\n",
       "<style scoped>\n",
       "    .dataframe tbody tr th:only-of-type {\n",
       "        vertical-align: middle;\n",
       "    }\n",
       "\n",
       "    .dataframe tbody tr th {\n",
       "        vertical-align: top;\n",
       "    }\n",
       "\n",
       "    .dataframe thead tr th {\n",
       "        text-align: left;\n",
       "    }\n",
       "\n",
       "    .dataframe thead tr:last-of-type th {\n",
       "        text-align: right;\n",
       "    }\n",
       "</style>\n",
       "<table border=\"1\" class=\"dataframe\">\n",
       "  <thead>\n",
       "    <tr>\n",
       "      <th></th>\n",
       "      <th>fraction_pos</th>\n",
       "      <th>len</th>\n",
       "    </tr>\n",
       "    <tr>\n",
       "      <th></th>\n",
       "      <th>dissatisfied</th>\n",
       "      <th>dissatisfied</th>\n",
       "    </tr>\n",
       "    <tr>\n",
       "      <th>duration_employment</th>\n",
       "      <th></th>\n",
       "      <th></th>\n",
       "    </tr>\n",
       "  </thead>\n",
       "  <tbody>\n",
       "    <tr>\n",
       "      <th>1-2</th>\n",
       "      <td>0.438</td>\n",
       "      <td>64</td>\n",
       "    </tr>\n",
       "    <tr>\n",
       "      <th>Less than 1 year</th>\n",
       "      <td>0.466</td>\n",
       "      <td>73</td>\n",
       "    </tr>\n",
       "    <tr>\n",
       "      <th>3-4</th>\n",
       "      <td>0.492</td>\n",
       "      <td>63</td>\n",
       "    </tr>\n",
       "    <tr>\n",
       "      <th>All</th>\n",
       "      <td>0.503</td>\n",
       "      <td>290</td>\n",
       "    </tr>\n",
       "    <tr>\n",
       "      <th>5-6</th>\n",
       "      <td>0.515</td>\n",
       "      <td>33</td>\n",
       "    </tr>\n",
       "    <tr>\n",
       "      <th>11-20</th>\n",
       "      <td>0.538</td>\n",
       "      <td>26</td>\n",
       "    </tr>\n",
       "    <tr>\n",
       "      <th>7-10</th>\n",
       "      <td>0.667</td>\n",
       "      <td>21</td>\n",
       "    </tr>\n",
       "    <tr>\n",
       "      <th>More than 20 years</th>\n",
       "      <td>0.800</td>\n",
       "      <td>10</td>\n",
       "    </tr>\n",
       "  </tbody>\n",
       "</table>\n",
       "</div>"
      ],
      "text/plain": [
       "                    fraction_pos          len\n",
       "                    dissatisfied dissatisfied\n",
       "duration_employment                          \n",
       "1-2                        0.438           64\n",
       "Less than 1 year           0.466           73\n",
       "3-4                        0.492           63\n",
       "All                        0.503          290\n",
       "5-6                        0.515           33\n",
       "11-20                      0.538           26\n",
       "7-10                       0.667           21\n",
       "More than 20 years         0.800           10"
      ]
     },
     "execution_count": 118,
     "metadata": {},
     "output_type": "execute_result"
    }
   ],
   "source": [
    "def fraction_pos(x):\n",
    "    return np.round(np.mean(x), 3)\n",
    "\n",
    "pd.pivot_table(tafe_resigned, \"dissatisfied\", \"duration_employment\", aggfunc=[fraction_pos, len], margins=True).sort_values((\"fraction_pos\", \"dissatisfied\"))"
   ]
  },
  {
   "cell_type": "markdown",
   "id": "5bca41e2-3238-457b-961c-e3e252e7a44b",
   "metadata": {},
   "source": [
    "For TAFE, more employees resign after a shorter duration than after a longer one. However, the former employees are also less dissatisfied when resigning."
   ]
  },
  {
   "cell_type": "code",
   "execution_count": 82,
   "id": "d07c2f9b-8cb0-4726-8073-15d3e5c4acbe",
   "metadata": {},
   "outputs": [
    {
     "data": {
      "text/html": [
       "<div>\n",
       "<style scoped>\n",
       "    .dataframe tbody tr th:only-of-type {\n",
       "        vertical-align: middle;\n",
       "    }\n",
       "\n",
       "    .dataframe tbody tr th {\n",
       "        vertical-align: top;\n",
       "    }\n",
       "\n",
       "    .dataframe thead tr th {\n",
       "        text-align: left;\n",
       "    }\n",
       "\n",
       "    .dataframe thead tr:last-of-type th {\n",
       "        text-align: right;\n",
       "    }\n",
       "</style>\n",
       "<table border=\"1\" class=\"dataframe\">\n",
       "  <thead>\n",
       "    <tr>\n",
       "      <th></th>\n",
       "      <th>fraction_pos</th>\n",
       "      <th>len</th>\n",
       "    </tr>\n",
       "    <tr>\n",
       "      <th></th>\n",
       "      <th>dissatisfied</th>\n",
       "      <th>dissatisfied</th>\n",
       "    </tr>\n",
       "    <tr>\n",
       "      <th>duration_employment</th>\n",
       "      <th></th>\n",
       "      <th></th>\n",
       "    </tr>\n",
       "  </thead>\n",
       "  <tbody>\n",
       "    <tr>\n",
       "      <th>1-2</th>\n",
       "      <td>0.278</td>\n",
       "      <td>36</td>\n",
       "    </tr>\n",
       "    <tr>\n",
       "      <th>3-4</th>\n",
       "      <td>0.333</td>\n",
       "      <td>36</td>\n",
       "    </tr>\n",
       "    <tr>\n",
       "      <th>All</th>\n",
       "      <td>0.484</td>\n",
       "      <td>273</td>\n",
       "    </tr>\n",
       "    <tr>\n",
       "      <th>11-20</th>\n",
       "      <td>0.491</td>\n",
       "      <td>57</td>\n",
       "    </tr>\n",
       "    <tr>\n",
       "      <th>Less than 1 year</th>\n",
       "      <td>0.500</td>\n",
       "      <td>20</td>\n",
       "    </tr>\n",
       "    <tr>\n",
       "      <th>5-6</th>\n",
       "      <td>0.550</td>\n",
       "      <td>40</td>\n",
       "    </tr>\n",
       "    <tr>\n",
       "      <th>More than 20 years</th>\n",
       "      <td>0.581</td>\n",
       "      <td>43</td>\n",
       "    </tr>\n",
       "    <tr>\n",
       "      <th>7-10</th>\n",
       "      <td>0.610</td>\n",
       "      <td>41</td>\n",
       "    </tr>\n",
       "  </tbody>\n",
       "</table>\n",
       "</div>"
      ],
      "text/plain": [
       "                    fraction_pos          len\n",
       "                    dissatisfied dissatisfied\n",
       "duration_employment                          \n",
       "1-2                        0.278           36\n",
       "3-4                        0.333           36\n",
       "All                        0.484          273\n",
       "11-20                      0.491           57\n",
       "Less than 1 year           0.500           20\n",
       "5-6                        0.550           40\n",
       "More than 20 years         0.581           43\n",
       "7-10                       0.610           41"
      ]
     },
     "execution_count": 82,
     "metadata": {},
     "output_type": "execute_result"
    }
   ],
   "source": [
    "pd.pivot_table(dete_resigned, \"dissatisfied\", \"duration_employment\", aggfunc=[fraction_pos, len], margins=True).sort_values((\"fraction_pos\", \"dissatisfied\"))"
   ]
  },
  {
   "cell_type": "markdown",
   "id": "67dba1d2-1eae-4e26-9faa-535b32d2bdf4",
   "metadata": {},
   "source": [
    "For DETE, the ratio of dissatisfied resignees is lower (0.484 instead of 0.503). Employees tend to stay longer before resigning. Once more, employees with a longer duration tend to be more dissatisfied when resigning."
   ]
  },
  {
   "cell_type": "markdown",
   "id": "c8afdc57-da7b-40a5-8988-e67581fd03f8",
   "metadata": {},
   "source": [
    "Finally, let us combine the two datasets, using only the columns that are shared and useful for the analysis."
   ]
  },
  {
   "cell_type": "code",
   "execution_count": 83,
   "id": "7e96765b-2161-4442-98d4-f10085a6b315",
   "metadata": {},
   "outputs": [
    {
     "data": {
      "text/plain": [
       "Index(['ID', 'SeparationType', 'Cease Date', 'DETE Start Date',\n",
       "       'Role Start Date', 'Position', 'Classification', 'Region',\n",
       "       'Business Unit', 'Employment Status', 'career_move_public_sector',\n",
       "       'career_move_private_sector', 'interpersonal_conflict',\n",
       "       'job_dissatisfaction', 'Dissatisfaction with the department',\n",
       "       'work_environment', 'lack_recognition', 'Lack of job security',\n",
       "       'Work location', 'Employment conditions', 'maternity_family',\n",
       "       'Relocation', 'study_travel', 'ill_health', 'Traumatic incident',\n",
       "       'work_life_balance', 'Workload', 'None of the above',\n",
       "       'Professional Development', 'Opportunities for promotion',\n",
       "       'Staff morale', 'Workplace issue', 'Physical environment',\n",
       "       'Worklife balance', 'Stress and pressure support',\n",
       "       'Performance of supervisor', 'Peer support', 'Initiative', 'Skills',\n",
       "       'Coach', 'Career Aspirations', 'Feedback', 'Further PD',\n",
       "       'Communication', 'My say', 'Information', 'Kept informed',\n",
       "       'Wellness programs', 'Health & Safety', 'Gender', 'Age', 'Aboriginal',\n",
       "       'Torres Strait', 'South Sea', 'Disability', 'NESB', 'cease_date_year',\n",
       "       'start_date_year', 'years_employed', 'duration_employment',\n",
       "       'dissatisfied'],\n",
       "      dtype='object')"
      ]
     },
     "execution_count": 83,
     "metadata": {},
     "output_type": "execute_result"
    }
   ],
   "source": [
    "dete_resigned.columns"
   ]
  },
  {
   "cell_type": "code",
   "execution_count": 84,
   "id": "9fcd393f-8fb2-4fea-966d-4793fd51d673",
   "metadata": {},
   "outputs": [
    {
     "data": {
      "text/html": [
       "<div>\n",
       "<style scoped>\n",
       "    .dataframe tbody tr th:only-of-type {\n",
       "        vertical-align: middle;\n",
       "    }\n",
       "\n",
       "    .dataframe tbody tr th {\n",
       "        vertical-align: top;\n",
       "    }\n",
       "\n",
       "    .dataframe thead th {\n",
       "        text-align: right;\n",
       "    }\n",
       "</style>\n",
       "<table border=\"1\" class=\"dataframe\">\n",
       "  <thead>\n",
       "    <tr style=\"text-align: right;\">\n",
       "      <th></th>\n",
       "      <th>Gender</th>\n",
       "      <th>Age</th>\n",
       "    </tr>\n",
       "  </thead>\n",
       "  <tbody>\n",
       "    <tr>\n",
       "      <th>count</th>\n",
       "      <td>302</td>\n",
       "      <td>306</td>\n",
       "    </tr>\n",
       "    <tr>\n",
       "      <th>unique</th>\n",
       "      <td>2</td>\n",
       "      <td>10</td>\n",
       "    </tr>\n",
       "    <tr>\n",
       "      <th>top</th>\n",
       "      <td>Female</td>\n",
       "      <td>41-45</td>\n",
       "    </tr>\n",
       "    <tr>\n",
       "      <th>freq</th>\n",
       "      <td>233</td>\n",
       "      <td>48</td>\n",
       "    </tr>\n",
       "  </tbody>\n",
       "</table>\n",
       "</div>"
      ],
      "text/plain": [
       "        Gender    Age\n",
       "count      302    306\n",
       "unique       2     10\n",
       "top     Female  41-45\n",
       "freq       233     48"
      ]
     },
     "execution_count": 84,
     "metadata": {},
     "output_type": "execute_result"
    }
   ],
   "source": [
    "dete_resigned[['Gender', 'Age']].describe(include=\"all\")"
   ]
  },
  {
   "cell_type": "code",
   "execution_count": 85,
   "id": "a2f8a1e6-a7a0-464b-a303-395a82ac47ba",
   "metadata": {},
   "outputs": [
    {
     "data": {
      "text/plain": [
       "Age\n",
       "41-45            48\n",
       "46-50            42\n",
       "36-40            41\n",
       "26-30            35\n",
       "51-55            32\n",
       "31-35            29\n",
       "21-25            29\n",
       "56-60            26\n",
       "61 or older      23\n",
       "20 or younger     1\n",
       "Name: count, dtype: int64"
      ]
     },
     "execution_count": 85,
     "metadata": {},
     "output_type": "execute_result"
    }
   ],
   "source": [
    "dete_resigned['Age'].value_counts()"
   ]
  },
  {
   "cell_type": "code",
   "execution_count": 86,
   "id": "7ac1af48-9e77-4794-9c27-fe241f6aa350",
   "metadata": {},
   "outputs": [
    {
     "data": {
      "text/plain": [
       "Index(['Record ID', 'Institute', 'WorkArea', 'CESSATION YEAR',\n",
       "       'Reason for ceasing employment', 'career_move_public_sector',\n",
       "       'career_move_private_sector',\n",
       "       'Contributing Factors. Career Move - Self-employment', 'ill_health',\n",
       "       'maternity_family', 'Contributing Factors. Dissatisfaction',\n",
       "       'job_dissatisfaction', 'interpersonal_conflict',\n",
       "       'Contributing Factors. Study', 'Contributing Factors. Travel',\n",
       "       'Contributing Factors. Other', 'Contributing Factors. NONE',\n",
       "       'Main Factor. Which of these was the main factor for leaving?',\n",
       "       'InstituteViews. Topic:1. I feel the senior leadership had a clear vision and direction',\n",
       "       'InstituteViews. Topic:2. I was given access to skills training to help me do my job better',\n",
       "       'InstituteViews. Topic:3. I was given adequate opportunities for personal development',\n",
       "       'InstituteViews. Topic:4. I was given adequate opportunities for promotion within %Institute]Q25LBL%',\n",
       "       'InstituteViews. Topic:5. I felt the salary for the job was right for the responsibilities I had',\n",
       "       'InstituteViews. Topic:6. The organisation recognised when staff did good work',\n",
       "       'InstituteViews. Topic:7. Management was generally supportive of me',\n",
       "       'InstituteViews. Topic:8. Management was generally supportive of my team',\n",
       "       'InstituteViews. Topic:9. I was kept informed of the changes in the organisation which would affect me',\n",
       "       'InstituteViews. Topic:10. Staff morale was positive within the Institute',\n",
       "       'InstituteViews. Topic:11. If I had a workplace issue it was dealt with quickly',\n",
       "       'InstituteViews. Topic:12. If I had a workplace issue it was dealt with efficiently',\n",
       "       'InstituteViews. Topic:13. If I had a workplace issue it was dealt with discreetly',\n",
       "       'WorkUnitViews. Topic:14. I was satisfied with the quality of the management and supervision within my work unit',\n",
       "       'WorkUnitViews. Topic:15. I worked well with my colleagues',\n",
       "       'WorkUnitViews. Topic:16. My job was challenging and interesting',\n",
       "       'WorkUnitViews. Topic:17. I was encouraged to use my initiative in the course of my work',\n",
       "       'WorkUnitViews. Topic:18. I had sufficient contact with other people in my job',\n",
       "       'WorkUnitViews. Topic:19. I was given adequate support and co-operation by my peers to enable me to do my job',\n",
       "       'WorkUnitViews. Topic:20. I was able to use the full range of my skills in my job',\n",
       "       'WorkUnitViews. Topic:21. I was able to use the full range of my abilities in my job. ; Category:Level of Agreement; Question:YOUR VIEWS ABOUT YOUR WORK UNIT]',\n",
       "       'WorkUnitViews. Topic:22. I was able to use the full range of my knowledge in my job',\n",
       "       'WorkUnitViews. Topic:23. My job provided sufficient variety',\n",
       "       'WorkUnitViews. Topic:24. I was able to cope with the level of stress and pressure in my job',\n",
       "       'WorkUnitViews. Topic:25. My job allowed me to balance the demands of work and family to my satisfaction',\n",
       "       'WorkUnitViews. Topic:26. My supervisor gave me adequate personal recognition and feedback on my performance',\n",
       "       'WorkUnitViews. Topic:27. My working environment was satisfactory e.g. sufficient space, good lighting, suitable seating and working area',\n",
       "       'WorkUnitViews. Topic:28. I was given the opportunity to mentor and coach others in order for me to pass on my skills and knowledge prior to my cessation date',\n",
       "       'WorkUnitViews. Topic:29. There was adequate communication between staff in my unit',\n",
       "       'WorkUnitViews. Topic:30. Staff morale was positive within my work unit',\n",
       "       'Induction. Did you undertake Workplace Induction?',\n",
       "       'InductionInfo. Topic:Did you undertake a Corporate Induction?',\n",
       "       'InductionInfo. Topic:Did you undertake a Institute Induction?',\n",
       "       'InductionInfo. Topic: Did you undertake Team Induction?',\n",
       "       'InductionInfo. Face to Face Topic:Did you undertake a Corporate Induction; Category:How it was conducted?',\n",
       "       'InductionInfo. On-line Topic:Did you undertake a Corporate Induction; Category:How it was conducted?',\n",
       "       'InductionInfo. Induction Manual Topic:Did you undertake a Corporate Induction?',\n",
       "       'InductionInfo. Face to Face Topic:Did you undertake a Institute Induction?',\n",
       "       'InductionInfo. On-line Topic:Did you undertake a Institute Induction?',\n",
       "       'InductionInfo. Induction Manual Topic:Did you undertake a Institute Induction?',\n",
       "       'InductionInfo. Face to Face Topic: Did you undertake Team Induction; Category?',\n",
       "       'InductionInfo. On-line Topic: Did you undertake Team Induction?process you undertook and how it was conducted.]',\n",
       "       'InductionInfo. Induction Manual Topic: Did you undertake Team Induction?',\n",
       "       'Workplace. Topic:Did you and your Manager develop a Performance and Professional Development Plan (PPDP)?',\n",
       "       'Workplace. Topic:Does your workplace promote a work culture free from all forms of unlawful discrimination?',\n",
       "       'Workplace. Topic:Does your workplace promote and practice the principles of employment equity?',\n",
       "       'Workplace. Topic:Does your workplace value the diversity of its employees?',\n",
       "       'Workplace. Topic:Would you recommend the Institute as an employer to others?',\n",
       "       'Gender. What is your Gender?', 'CurrentAge. Current Age',\n",
       "       'Employment Type. Employment Type', 'Classification. Classification',\n",
       "       'duration_employment',\n",
       "       'LengthofServiceCurrent. Length of Service at current workplace (in years)',\n",
       "       'study_travel', 'work_environment', 'lack_recognition',\n",
       "       'work_life_balance', 'dissatisfied'],\n",
       "      dtype='object')"
      ]
     },
     "execution_count": 86,
     "metadata": {},
     "output_type": "execute_result"
    }
   ],
   "source": [
    "tafe_resigned.columns"
   ]
  },
  {
   "cell_type": "code",
   "execution_count": 87,
   "id": "42679aea-fb98-4fa1-85b2-7d1358fe800a",
   "metadata": {},
   "outputs": [
    {
     "data": {
      "text/html": [
       "<div>\n",
       "<style scoped>\n",
       "    .dataframe tbody tr th:only-of-type {\n",
       "        vertical-align: middle;\n",
       "    }\n",
       "\n",
       "    .dataframe tbody tr th {\n",
       "        vertical-align: top;\n",
       "    }\n",
       "\n",
       "    .dataframe thead th {\n",
       "        text-align: right;\n",
       "    }\n",
       "</style>\n",
       "<table border=\"1\" class=\"dataframe\">\n",
       "  <thead>\n",
       "    <tr style=\"text-align: right;\">\n",
       "      <th></th>\n",
       "      <th>Gender. What is your Gender?</th>\n",
       "      <th>CurrentAge. Current Age</th>\n",
       "    </tr>\n",
       "  </thead>\n",
       "  <tbody>\n",
       "    <tr>\n",
       "      <th>count</th>\n",
       "      <td>290</td>\n",
       "      <td>290</td>\n",
       "    </tr>\n",
       "    <tr>\n",
       "      <th>unique</th>\n",
       "      <td>2</td>\n",
       "      <td>9</td>\n",
       "    </tr>\n",
       "    <tr>\n",
       "      <th>top</th>\n",
       "      <td>Female</td>\n",
       "      <td>41  45</td>\n",
       "    </tr>\n",
       "    <tr>\n",
       "      <th>freq</th>\n",
       "      <td>191</td>\n",
       "      <td>45</td>\n",
       "    </tr>\n",
       "  </tbody>\n",
       "</table>\n",
       "</div>"
      ],
      "text/plain": [
       "       Gender. What is your Gender? CurrentAge. Current Age\n",
       "count                           290                     290\n",
       "unique                            2                       9\n",
       "top                          Female                  41  45\n",
       "freq                            191                      45"
      ]
     },
     "execution_count": 87,
     "metadata": {},
     "output_type": "execute_result"
    }
   ],
   "source": [
    "tafe_resigned[['Gender. What is your Gender?', 'CurrentAge. Current Age']].describe(include=\"all\")"
   ]
  },
  {
   "cell_type": "code",
   "execution_count": 88,
   "id": "f3a28a48-66fe-4d53-9a51-322b9d0a2038",
   "metadata": {},
   "outputs": [
    {
     "data": {
      "text/plain": [
       "CurrentAge. Current Age\n",
       "41  45           45\n",
       "46  50           39\n",
       "51-55            39\n",
       "21  25           33\n",
       "36  40           32\n",
       "31  35           32\n",
       "26  30           32\n",
       "56 or older      29\n",
       "20 or younger     9\n",
       "Name: count, dtype: int64"
      ]
     },
     "execution_count": 88,
     "metadata": {},
     "output_type": "execute_result"
    }
   ],
   "source": [
    "tafe_resigned['CurrentAge. Current Age'].value_counts()"
   ]
  },
  {
   "cell_type": "code",
   "execution_count": 89,
   "id": "783987b3-932b-4290-97b2-d471082e6f39",
   "metadata": {},
   "outputs": [
    {
     "data": {
      "text/plain": [
       "Age\n",
       "41-45            48\n",
       "46-50            42\n",
       "36-40            41\n",
       "26-30            35\n",
       "51-55            32\n",
       "31-35            29\n",
       "21-25            29\n",
       "56-60            26\n",
       "61 or older      23\n",
       "20 or younger     1\n",
       "Name: count, dtype: int64"
      ]
     },
     "execution_count": 89,
     "metadata": {},
     "output_type": "execute_result"
    }
   ],
   "source": [
    "dete_resigned['Age'].value_counts()"
   ]
  },
  {
   "cell_type": "code",
   "execution_count": 90,
   "id": "e940da08-787b-4af1-9cb8-50794f2c7d80",
   "metadata": {},
   "outputs": [
    {
     "data": {
      "text/plain": [
       "age\n",
       "NaN              50\n",
       "41-45            45\n",
       "46-50            39\n",
       "51-55            39\n",
       "21-25            33\n",
       "36-40            32\n",
       "31-35            32\n",
       "26-30            32\n",
       "56 or older      29\n",
       "20 or younger     9\n",
       "Name: count, dtype: int64"
      ]
     },
     "execution_count": 90,
     "metadata": {},
     "output_type": "execute_result"
    }
   ],
   "source": [
    "tafe_resigned['age'] = tafe_resigned['CurrentAge. Current Age'].str.replace(\"  \", \"-\")\n",
    "tafe_resigned['age'].value_counts(dropna=False)"
   ]
  },
  {
   "cell_type": "code",
   "execution_count": 91,
   "id": "3b815233-acee-49f5-9240-a12491410830",
   "metadata": {},
   "outputs": [],
   "source": [
    "tafe_resigned['gender'] = tafe_resigned['Gender. What is your Gender?']"
   ]
  },
  {
   "cell_type": "code",
   "execution_count": 107,
   "id": "481857e4-9943-4a9c-af9d-6ee497150f22",
   "metadata": {},
   "outputs": [],
   "source": [
    "dete_map = {\"Age\": \"age\", \"Gender\": \"gender\"}\n",
    "dete_resigned.rename(dete_map, axis=1, inplace=True)\n",
    "\n",
    "# Combine two groups, in order to get the same grouping as in the TAFE data\n",
    "ind = (dete_resigned[\"age\"] == \"56-60\") | (dete_resigned[\"age\"] == \"61 or older\")\n",
    "dete_resigned.loc[ind, \"age\"] = \"56 or older\""
   ]
  },
  {
   "cell_type": "code",
   "execution_count": 108,
   "id": "4c085091-d5b6-47fb-b628-7b3857ee0cb1",
   "metadata": {},
   "outputs": [
    {
     "data": {
      "text/plain": [
       "Index(['career_move_public_sector', 'career_move_private_sector',\n",
       "       'interpersonal_conflict', 'job_dissatisfaction', 'work_environment',\n",
       "       'lack_recognition', 'maternity_family', 'study_travel', 'ill_health',\n",
       "       'work_life_balance', 'gender', 'age', 'cease_date_year',\n",
       "       'start_date_year', 'years_employed', 'duration_employment',\n",
       "       'dissatisfied'],\n",
       "      dtype='object')"
      ]
     },
     "execution_count": 108,
     "metadata": {},
     "output_type": "execute_result"
    }
   ],
   "source": [
    "dete_names = dete_resigned.columns\n",
    "ind = dete_names == dete_names.str.lower()\n",
    "dete_names[ind]"
   ]
  },
  {
   "cell_type": "code",
   "execution_count": 109,
   "id": "e9a28447-bdae-4816-8aa7-437d6c8d7e11",
   "metadata": {},
   "outputs": [],
   "source": [
    "dete_res_selected = dete_resigned[dete_names[ind]].copy()\n",
    "dete_res_selected[\"institute\"] = \"DETE\""
   ]
  },
  {
   "cell_type": "code",
   "execution_count": 110,
   "id": "19b75352-d799-4bc2-b74e-e45552d285ab",
   "metadata": {},
   "outputs": [
    {
     "data": {
      "text/html": [
       "<div>\n",
       "<style scoped>\n",
       "    .dataframe tbody tr th:only-of-type {\n",
       "        vertical-align: middle;\n",
       "    }\n",
       "\n",
       "    .dataframe tbody tr th {\n",
       "        vertical-align: top;\n",
       "    }\n",
       "\n",
       "    .dataframe thead th {\n",
       "        text-align: right;\n",
       "    }\n",
       "</style>\n",
       "<table border=\"1\" class=\"dataframe\">\n",
       "  <thead>\n",
       "    <tr style=\"text-align: right;\">\n",
       "      <th></th>\n",
       "      <th>career_move_public_sector</th>\n",
       "      <th>career_move_private_sector</th>\n",
       "      <th>interpersonal_conflict</th>\n",
       "      <th>job_dissatisfaction</th>\n",
       "      <th>work_environment</th>\n",
       "      <th>lack_recognition</th>\n",
       "      <th>maternity_family</th>\n",
       "      <th>study_travel</th>\n",
       "      <th>ill_health</th>\n",
       "      <th>work_life_balance</th>\n",
       "      <th>gender</th>\n",
       "      <th>age</th>\n",
       "      <th>cease_date_year</th>\n",
       "      <th>start_date_year</th>\n",
       "      <th>years_employed</th>\n",
       "      <th>duration_employment</th>\n",
       "      <th>dissatisfied</th>\n",
       "      <th>institute</th>\n",
       "    </tr>\n",
       "  </thead>\n",
       "  <tbody>\n",
       "    <tr>\n",
       "      <th>3</th>\n",
       "      <td>False</td>\n",
       "      <td>True</td>\n",
       "      <td>False</td>\n",
       "      <td>False</td>\n",
       "      <td>False</td>\n",
       "      <td>False</td>\n",
       "      <td>False</td>\n",
       "      <td>False</td>\n",
       "      <td>False</td>\n",
       "      <td>False</td>\n",
       "      <td>Female</td>\n",
       "      <td>36-40</td>\n",
       "      <td>2012.0</td>\n",
       "      <td>2005.0</td>\n",
       "      <td>7.0</td>\n",
       "      <td>7-10</td>\n",
       "      <td>False</td>\n",
       "      <td>DETE</td>\n",
       "    </tr>\n",
       "    <tr>\n",
       "      <th>5</th>\n",
       "      <td>False</td>\n",
       "      <td>True</td>\n",
       "      <td>False</td>\n",
       "      <td>False</td>\n",
       "      <td>False</td>\n",
       "      <td>False</td>\n",
       "      <td>True</td>\n",
       "      <td>False</td>\n",
       "      <td>False</td>\n",
       "      <td>False</td>\n",
       "      <td>Female</td>\n",
       "      <td>41-45</td>\n",
       "      <td>2012.0</td>\n",
       "      <td>1994.0</td>\n",
       "      <td>18.0</td>\n",
       "      <td>11-20</td>\n",
       "      <td>True</td>\n",
       "      <td>DETE</td>\n",
       "    </tr>\n",
       "    <tr>\n",
       "      <th>8</th>\n",
       "      <td>False</td>\n",
       "      <td>True</td>\n",
       "      <td>False</td>\n",
       "      <td>False</td>\n",
       "      <td>False</td>\n",
       "      <td>False</td>\n",
       "      <td>False</td>\n",
       "      <td>False</td>\n",
       "      <td>False</td>\n",
       "      <td>False</td>\n",
       "      <td>Female</td>\n",
       "      <td>31-35</td>\n",
       "      <td>2012.0</td>\n",
       "      <td>2009.0</td>\n",
       "      <td>3.0</td>\n",
       "      <td>3-4</td>\n",
       "      <td>False</td>\n",
       "      <td>DETE</td>\n",
       "    </tr>\n",
       "    <tr>\n",
       "      <th>9</th>\n",
       "      <td>False</td>\n",
       "      <td>False</td>\n",
       "      <td>True</td>\n",
       "      <td>True</td>\n",
       "      <td>False</td>\n",
       "      <td>False</td>\n",
       "      <td>False</td>\n",
       "      <td>False</td>\n",
       "      <td>False</td>\n",
       "      <td>False</td>\n",
       "      <td>Female</td>\n",
       "      <td>46-50</td>\n",
       "      <td>2012.0</td>\n",
       "      <td>1997.0</td>\n",
       "      <td>15.0</td>\n",
       "      <td>11-20</td>\n",
       "      <td>True</td>\n",
       "      <td>DETE</td>\n",
       "    </tr>\n",
       "    <tr>\n",
       "      <th>11</th>\n",
       "      <td>False</td>\n",
       "      <td>False</td>\n",
       "      <td>False</td>\n",
       "      <td>False</td>\n",
       "      <td>False</td>\n",
       "      <td>False</td>\n",
       "      <td>True</td>\n",
       "      <td>False</td>\n",
       "      <td>False</td>\n",
       "      <td>False</td>\n",
       "      <td>Male</td>\n",
       "      <td>31-35</td>\n",
       "      <td>2012.0</td>\n",
       "      <td>2009.0</td>\n",
       "      <td>3.0</td>\n",
       "      <td>3-4</td>\n",
       "      <td>False</td>\n",
       "      <td>DETE</td>\n",
       "    </tr>\n",
       "  </tbody>\n",
       "</table>\n",
       "</div>"
      ],
      "text/plain": [
       "    career_move_public_sector  career_move_private_sector  \\\n",
       "3                       False                        True   \n",
       "5                       False                        True   \n",
       "8                       False                        True   \n",
       "9                       False                       False   \n",
       "11                      False                       False   \n",
       "\n",
       "    interpersonal_conflict  job_dissatisfaction  work_environment  \\\n",
       "3                    False                False             False   \n",
       "5                    False                False             False   \n",
       "8                    False                False             False   \n",
       "9                     True                 True             False   \n",
       "11                   False                False             False   \n",
       "\n",
       "    lack_recognition  maternity_family  study_travel  ill_health  \\\n",
       "3              False             False         False       False   \n",
       "5              False              True         False       False   \n",
       "8              False             False         False       False   \n",
       "9              False             False         False       False   \n",
       "11             False              True         False       False   \n",
       "\n",
       "    work_life_balance  gender    age  cease_date_year  start_date_year  \\\n",
       "3               False  Female  36-40           2012.0           2005.0   \n",
       "5               False  Female  41-45           2012.0           1994.0   \n",
       "8               False  Female  31-35           2012.0           2009.0   \n",
       "9               False  Female  46-50           2012.0           1997.0   \n",
       "11              False    Male  31-35           2012.0           2009.0   \n",
       "\n",
       "    years_employed duration_employment  dissatisfied institute  \n",
       "3              7.0                7-10         False      DETE  \n",
       "5             18.0               11-20          True      DETE  \n",
       "8              3.0                 3-4         False      DETE  \n",
       "9             15.0               11-20          True      DETE  \n",
       "11             3.0                 3-4         False      DETE  "
      ]
     },
     "execution_count": 110,
     "metadata": {},
     "output_type": "execute_result"
    }
   ],
   "source": [
    "dete_res_selected.head()"
   ]
  },
  {
   "cell_type": "code",
   "execution_count": 111,
   "id": "9a4f9eb9-e557-4569-9f1a-60dd9aa905d5",
   "metadata": {},
   "outputs": [
    {
     "data": {
      "text/plain": [
       "Index(['career_move_public_sector', 'career_move_private_sector', 'ill_health',\n",
       "       'maternity_family', 'job_dissatisfaction', 'interpersonal_conflict',\n",
       "       'duration_employment', 'study_travel', 'work_environment',\n",
       "       'lack_recognition', 'work_life_balance', 'dissatisfied', 'age',\n",
       "       'gender'],\n",
       "      dtype='object')"
      ]
     },
     "execution_count": 111,
     "metadata": {},
     "output_type": "execute_result"
    }
   ],
   "source": [
    "tafe_names = tafe_resigned.columns\n",
    "ind = tafe_names == tafe_names.str.lower()\n",
    "tafe_names[ind]"
   ]
  },
  {
   "cell_type": "code",
   "execution_count": 112,
   "id": "d892d809-00ed-44a7-8a9d-73cd33d39309",
   "metadata": {},
   "outputs": [],
   "source": [
    "tafe_res_selected = tafe_resigned[tafe_names[ind]].copy()\n",
    "tafe_res_selected[\"institute\"] = \"TAFE\""
   ]
  },
  {
   "cell_type": "code",
   "execution_count": 103,
   "id": "a1b49710-c1e6-461a-81ef-4d1aec4c3543",
   "metadata": {},
   "outputs": [
    {
     "data": {
      "text/html": [
       "<div>\n",
       "<style scoped>\n",
       "    .dataframe tbody tr th:only-of-type {\n",
       "        vertical-align: middle;\n",
       "    }\n",
       "\n",
       "    .dataframe tbody tr th {\n",
       "        vertical-align: top;\n",
       "    }\n",
       "\n",
       "    .dataframe thead th {\n",
       "        text-align: right;\n",
       "    }\n",
       "</style>\n",
       "<table border=\"1\" class=\"dataframe\">\n",
       "  <thead>\n",
       "    <tr style=\"text-align: right;\">\n",
       "      <th></th>\n",
       "      <th>career_move_public_sector</th>\n",
       "      <th>career_move_private_sector</th>\n",
       "      <th>ill_health</th>\n",
       "      <th>maternity_family</th>\n",
       "      <th>job_dissatisfaction</th>\n",
       "      <th>interpersonal_conflict</th>\n",
       "      <th>duration_employment</th>\n",
       "      <th>study_travel</th>\n",
       "      <th>work_environment</th>\n",
       "      <th>lack_recognition</th>\n",
       "      <th>work_life_balance</th>\n",
       "      <th>dissatisfied</th>\n",
       "      <th>age</th>\n",
       "      <th>gender</th>\n",
       "      <th>institute</th>\n",
       "    </tr>\n",
       "  </thead>\n",
       "  <tbody>\n",
       "    <tr>\n",
       "      <th>3</th>\n",
       "      <td>False</td>\n",
       "      <td>False</td>\n",
       "      <td>False</td>\n",
       "      <td>False</td>\n",
       "      <td>False</td>\n",
       "      <td>False</td>\n",
       "      <td>NaN</td>\n",
       "      <td>True</td>\n",
       "      <td>False</td>\n",
       "      <td>False</td>\n",
       "      <td>False</td>\n",
       "      <td>False</td>\n",
       "      <td>NaN</td>\n",
       "      <td>NaN</td>\n",
       "      <td>TAFE</td>\n",
       "    </tr>\n",
       "    <tr>\n",
       "      <th>4</th>\n",
       "      <td>False</td>\n",
       "      <td>True</td>\n",
       "      <td>False</td>\n",
       "      <td>False</td>\n",
       "      <td>False</td>\n",
       "      <td>False</td>\n",
       "      <td>3-4</td>\n",
       "      <td>False</td>\n",
       "      <td>False</td>\n",
       "      <td>False</td>\n",
       "      <td>False</td>\n",
       "      <td>False</td>\n",
       "      <td>41-45</td>\n",
       "      <td>Male</td>\n",
       "      <td>TAFE</td>\n",
       "    </tr>\n",
       "    <tr>\n",
       "      <th>5</th>\n",
       "      <td>False</td>\n",
       "      <td>False</td>\n",
       "      <td>False</td>\n",
       "      <td>False</td>\n",
       "      <td>False</td>\n",
       "      <td>False</td>\n",
       "      <td>7-10</td>\n",
       "      <td>False</td>\n",
       "      <td>True</td>\n",
       "      <td>False</td>\n",
       "      <td>True</td>\n",
       "      <td>True</td>\n",
       "      <td>56 or older</td>\n",
       "      <td>Female</td>\n",
       "      <td>TAFE</td>\n",
       "    </tr>\n",
       "    <tr>\n",
       "      <th>6</th>\n",
       "      <td>False</td>\n",
       "      <td>True</td>\n",
       "      <td>False</td>\n",
       "      <td>True</td>\n",
       "      <td>False</td>\n",
       "      <td>False</td>\n",
       "      <td>3-4</td>\n",
       "      <td>False</td>\n",
       "      <td>False</td>\n",
       "      <td>False</td>\n",
       "      <td>False</td>\n",
       "      <td>False</td>\n",
       "      <td>20 or younger</td>\n",
       "      <td>Male</td>\n",
       "      <td>TAFE</td>\n",
       "    </tr>\n",
       "    <tr>\n",
       "      <th>7</th>\n",
       "      <td>False</td>\n",
       "      <td>False</td>\n",
       "      <td>False</td>\n",
       "      <td>False</td>\n",
       "      <td>False</td>\n",
       "      <td>False</td>\n",
       "      <td>3-4</td>\n",
       "      <td>False</td>\n",
       "      <td>False</td>\n",
       "      <td>False</td>\n",
       "      <td>True</td>\n",
       "      <td>True</td>\n",
       "      <td>46-50</td>\n",
       "      <td>Male</td>\n",
       "      <td>TAFE</td>\n",
       "    </tr>\n",
       "  </tbody>\n",
       "</table>\n",
       "</div>"
      ],
      "text/plain": [
       "  career_move_public_sector career_move_private_sector ill_health  \\\n",
       "3                     False                      False      False   \n",
       "4                     False                       True      False   \n",
       "5                     False                      False      False   \n",
       "6                     False                       True      False   \n",
       "7                     False                      False      False   \n",
       "\n",
       "  maternity_family job_dissatisfaction interpersonal_conflict  \\\n",
       "3            False               False                  False   \n",
       "4            False               False                  False   \n",
       "5            False               False                  False   \n",
       "6             True               False                  False   \n",
       "7            False               False                  False   \n",
       "\n",
       "  duration_employment  study_travel  work_environment  lack_recognition  \\\n",
       "3                 NaN          True             False             False   \n",
       "4                 3-4         False             False             False   \n",
       "5                7-10         False              True             False   \n",
       "6                 3-4         False             False             False   \n",
       "7                 3-4         False             False             False   \n",
       "\n",
       "   work_life_balance  dissatisfied            age  gender institute  \n",
       "3              False         False            NaN     NaN      TAFE  \n",
       "4              False         False          41-45    Male      TAFE  \n",
       "5               True          True    56 or older  Female      TAFE  \n",
       "6              False         False  20 or younger    Male      TAFE  \n",
       "7               True          True          46-50    Male      TAFE  "
      ]
     },
     "execution_count": 103,
     "metadata": {},
     "output_type": "execute_result"
    }
   ],
   "source": [
    "tafe_res_selected.head()"
   ]
  },
  {
   "cell_type": "code",
   "execution_count": 113,
   "id": "4b0ae813-6041-42b0-af4b-6fb4e85e5e63",
   "metadata": {},
   "outputs": [
    {
     "name": "stdout",
     "output_type": "stream",
     "text": [
      "<class 'pandas.core.frame.DataFrame'>\n",
      "RangeIndex: 651 entries, 0 to 650\n",
      "Data columns (total 18 columns):\n",
      " #   Column                      Non-Null Count  Dtype  \n",
      "---  ------                      --------------  -----  \n",
      " 0   career_move_public_sector   643 non-null    object \n",
      " 1   career_move_private_sector  643 non-null    object \n",
      " 2   interpersonal_conflict      643 non-null    object \n",
      " 3   job_dissatisfaction         643 non-null    object \n",
      " 4   work_environment            651 non-null    bool   \n",
      " 5   lack_recognition            651 non-null    bool   \n",
      " 6   maternity_family            643 non-null    object \n",
      " 7   study_travel                651 non-null    bool   \n",
      " 8   ill_health                  643 non-null    object \n",
      " 9   work_life_balance           651 non-null    bool   \n",
      " 10  gender                      592 non-null    object \n",
      " 11  age                         596 non-null    object \n",
      " 12  cease_date_year             300 non-null    float64\n",
      " 13  start_date_year             283 non-null    float64\n",
      " 14  years_employed              273 non-null    float64\n",
      " 15  duration_employment         563 non-null    object \n",
      " 16  dissatisfied                651 non-null    bool   \n",
      " 17  institute                   651 non-null    object \n",
      "dtypes: bool(5), float64(3), object(10)\n",
      "memory usage: 69.4+ KB\n"
     ]
    }
   ],
   "source": [
    "combined = pd.concat([dete_res_selected, tafe_res_selected], ignore_index=True)\n",
    "combined.info()"
   ]
  },
  {
   "cell_type": "code",
   "execution_count": 105,
   "id": "82a210e9-a315-4d94-8020-b3e6d6718b12",
   "metadata": {},
   "outputs": [
    {
     "data": {
      "text/html": [
       "<div>\n",
       "<style scoped>\n",
       "    .dataframe tbody tr th:only-of-type {\n",
       "        vertical-align: middle;\n",
       "    }\n",
       "\n",
       "    .dataframe tbody tr th {\n",
       "        vertical-align: top;\n",
       "    }\n",
       "\n",
       "    .dataframe thead tr th {\n",
       "        text-align: left;\n",
       "    }\n",
       "\n",
       "    .dataframe thead tr:last-of-type th {\n",
       "        text-align: right;\n",
       "    }\n",
       "</style>\n",
       "<table border=\"1\" class=\"dataframe\">\n",
       "  <thead>\n",
       "    <tr>\n",
       "      <th></th>\n",
       "      <th>fraction_pos</th>\n",
       "      <th>len</th>\n",
       "    </tr>\n",
       "    <tr>\n",
       "      <th></th>\n",
       "      <th>dissatisfied</th>\n",
       "      <th>dissatisfied</th>\n",
       "    </tr>\n",
       "    <tr>\n",
       "      <th>duration_employment</th>\n",
       "      <th></th>\n",
       "      <th></th>\n",
       "    </tr>\n",
       "  </thead>\n",
       "  <tbody>\n",
       "    <tr>\n",
       "      <th>1-2</th>\n",
       "      <td>0.380</td>\n",
       "      <td>100</td>\n",
       "    </tr>\n",
       "    <tr>\n",
       "      <th>3-4</th>\n",
       "      <td>0.434</td>\n",
       "      <td>99</td>\n",
       "    </tr>\n",
       "    <tr>\n",
       "      <th>Less than 1 year</th>\n",
       "      <td>0.473</td>\n",
       "      <td>93</td>\n",
       "    </tr>\n",
       "    <tr>\n",
       "      <th>All</th>\n",
       "      <td>0.494</td>\n",
       "      <td>563</td>\n",
       "    </tr>\n",
       "    <tr>\n",
       "      <th>11-20</th>\n",
       "      <td>0.506</td>\n",
       "      <td>83</td>\n",
       "    </tr>\n",
       "    <tr>\n",
       "      <th>5-6</th>\n",
       "      <td>0.534</td>\n",
       "      <td>73</td>\n",
       "    </tr>\n",
       "    <tr>\n",
       "      <th>More than 20 years</th>\n",
       "      <td>0.623</td>\n",
       "      <td>53</td>\n",
       "    </tr>\n",
       "    <tr>\n",
       "      <th>7-10</th>\n",
       "      <td>0.629</td>\n",
       "      <td>62</td>\n",
       "    </tr>\n",
       "  </tbody>\n",
       "</table>\n",
       "</div>"
      ],
      "text/plain": [
       "                    fraction_pos          len\n",
       "                    dissatisfied dissatisfied\n",
       "duration_employment                          \n",
       "1-2                        0.380          100\n",
       "3-4                        0.434           99\n",
       "Less than 1 year           0.473           93\n",
       "All                        0.494          563\n",
       "11-20                      0.506           83\n",
       "5-6                        0.534           73\n",
       "More than 20 years         0.623           53\n",
       "7-10                       0.629           62"
      ]
     },
     "execution_count": 105,
     "metadata": {},
     "output_type": "execute_result"
    }
   ],
   "source": [
    "pd.pivot_table(combined, \"dissatisfied\", \"duration_employment\", aggfunc=[fraction_pos, len], margins=True).sort_values((\"fraction_pos\", \"dissatisfied\"))"
   ]
  },
  {
   "cell_type": "markdown",
   "id": "d1bcf6b5-145e-461f-8aa4-90fda9841ca7",
   "metadata": {},
   "source": [
    "Once we combined the datasets from the two surveys, we see that:\n",
    "\n",
    "* There are more employees who resign earlier rather than later (except \"11-20\")\n",
    "* The ratio of dissatisfied employees is smaller for those who resign earlier\n",
    "\n",
    "TODO: Could try to plot some histograms, to understand which factors are most relevant for each duration group"
   ]
  },
  {
   "cell_type": "markdown",
   "id": "2d2a33e2-0ac9-46b6-a157-bca2bc4fef54",
   "metadata": {},
   "source": [
    "And what about grouping by age?"
   ]
  },
  {
   "cell_type": "code",
   "execution_count": 114,
   "id": "2d91386d-f93f-4446-99a1-d2e8dc3cc684",
   "metadata": {},
   "outputs": [
    {
     "data": {
      "text/html": [
       "<div>\n",
       "<style scoped>\n",
       "    .dataframe tbody tr th:only-of-type {\n",
       "        vertical-align: middle;\n",
       "    }\n",
       "\n",
       "    .dataframe tbody tr th {\n",
       "        vertical-align: top;\n",
       "    }\n",
       "\n",
       "    .dataframe thead tr th {\n",
       "        text-align: left;\n",
       "    }\n",
       "\n",
       "    .dataframe thead tr:last-of-type th {\n",
       "        text-align: right;\n",
       "    }\n",
       "</style>\n",
       "<table border=\"1\" class=\"dataframe\">\n",
       "  <thead>\n",
       "    <tr>\n",
       "      <th></th>\n",
       "      <th>fraction_pos</th>\n",
       "      <th>len</th>\n",
       "    </tr>\n",
       "    <tr>\n",
       "      <th></th>\n",
       "      <th>dissatisfied</th>\n",
       "      <th>dissatisfied</th>\n",
       "    </tr>\n",
       "    <tr>\n",
       "      <th>age</th>\n",
       "      <th></th>\n",
       "      <th></th>\n",
       "    </tr>\n",
       "  </thead>\n",
       "  <tbody>\n",
       "    <tr>\n",
       "      <th>21-25</th>\n",
       "      <td>0.323</td>\n",
       "      <td>62</td>\n",
       "    </tr>\n",
       "    <tr>\n",
       "      <th>20 or younger</th>\n",
       "      <td>0.400</td>\n",
       "      <td>10</td>\n",
       "    </tr>\n",
       "    <tr>\n",
       "      <th>41-45</th>\n",
       "      <td>0.462</td>\n",
       "      <td>93</td>\n",
       "    </tr>\n",
       "    <tr>\n",
       "      <th>All</th>\n",
       "      <td>0.487</td>\n",
       "      <td>596</td>\n",
       "    </tr>\n",
       "    <tr>\n",
       "      <th>36-40</th>\n",
       "      <td>0.493</td>\n",
       "      <td>73</td>\n",
       "    </tr>\n",
       "    <tr>\n",
       "      <th>46-50</th>\n",
       "      <td>0.506</td>\n",
       "      <td>81</td>\n",
       "    </tr>\n",
       "    <tr>\n",
       "      <th>51-55</th>\n",
       "      <td>0.507</td>\n",
       "      <td>71</td>\n",
       "    </tr>\n",
       "    <tr>\n",
       "      <th>31-35</th>\n",
       "      <td>0.525</td>\n",
       "      <td>61</td>\n",
       "    </tr>\n",
       "    <tr>\n",
       "      <th>26-30</th>\n",
       "      <td>0.537</td>\n",
       "      <td>67</td>\n",
       "    </tr>\n",
       "    <tr>\n",
       "      <th>56 or older</th>\n",
       "      <td>0.538</td>\n",
       "      <td>78</td>\n",
       "    </tr>\n",
       "  </tbody>\n",
       "</table>\n",
       "</div>"
      ],
      "text/plain": [
       "              fraction_pos          len\n",
       "              dissatisfied dissatisfied\n",
       "age                                    \n",
       "21-25                0.323           62\n",
       "20 or younger        0.400           10\n",
       "41-45                0.462           93\n",
       "All                  0.487          596\n",
       "36-40                0.493           73\n",
       "46-50                0.506           81\n",
       "51-55                0.507           71\n",
       "31-35                0.525           61\n",
       "26-30                0.537           67\n",
       "56 or older          0.538           78"
      ]
     },
     "execution_count": 114,
     "metadata": {},
     "output_type": "execute_result"
    }
   ],
   "source": [
    "pd.pivot_table(combined, \"dissatisfied\", \"age\", aggfunc=[fraction_pos, len], margins=True).sort_values((\"fraction_pos\", \"dissatisfied\"))"
   ]
  },
  {
   "cell_type": "markdown",
   "id": "b577b5e6-7fdc-4cb2-8d14-f016c323acb9",
   "metadata": {},
   "source": [
    "Employees up to 25 years old are the least dissatisfied when they resign, but also \"41-45\" is below average, and while \"56 or older\" are most dissatisfied, \"26-30\" is not far off. Maybe, some histograms can help to understand the most important factors?"
   ]
  },
  {
   "cell_type": "code",
   "execution_count": 117,
   "id": "af0ff065-0633-4b21-9ab5-cd4987796f08",
   "metadata": {},
   "outputs": [
    {
     "data": {
      "text/html": [
       "<div>\n",
       "<style scoped>\n",
       "    .dataframe tbody tr th:only-of-type {\n",
       "        vertical-align: middle;\n",
       "    }\n",
       "\n",
       "    .dataframe tbody tr th {\n",
       "        vertical-align: top;\n",
       "    }\n",
       "\n",
       "    .dataframe thead tr th {\n",
       "        text-align: left;\n",
       "    }\n",
       "\n",
       "    .dataframe thead tr:last-of-type th {\n",
       "        text-align: right;\n",
       "    }\n",
       "</style>\n",
       "<table border=\"1\" class=\"dataframe\">\n",
       "  <thead>\n",
       "    <tr>\n",
       "      <th></th>\n",
       "      <th></th>\n",
       "      <th>fraction_pos</th>\n",
       "      <th>len</th>\n",
       "    </tr>\n",
       "    <tr>\n",
       "      <th></th>\n",
       "      <th></th>\n",
       "      <th>dissatisfied</th>\n",
       "      <th>dissatisfied</th>\n",
       "    </tr>\n",
       "    <tr>\n",
       "      <th>age</th>\n",
       "      <th>gender</th>\n",
       "      <th></th>\n",
       "      <th></th>\n",
       "    </tr>\n",
       "  </thead>\n",
       "  <tbody>\n",
       "    <tr>\n",
       "      <th>20 or younger</th>\n",
       "      <th>Male</th>\n",
       "      <td>0.000</td>\n",
       "      <td>3</td>\n",
       "    </tr>\n",
       "    <tr>\n",
       "      <th rowspan=\"2\" valign=\"top\">21-25</th>\n",
       "      <th>Male</th>\n",
       "      <td>0.176</td>\n",
       "      <td>17</td>\n",
       "    </tr>\n",
       "    <tr>\n",
       "      <th>Female</th>\n",
       "      <td>0.378</td>\n",
       "      <td>45</td>\n",
       "    </tr>\n",
       "    <tr>\n",
       "      <th>41-45</th>\n",
       "      <th>Female</th>\n",
       "      <td>0.420</td>\n",
       "      <td>69</td>\n",
       "    </tr>\n",
       "    <tr>\n",
       "      <th>51-55</th>\n",
       "      <th>Female</th>\n",
       "      <td>0.444</td>\n",
       "      <td>45</td>\n",
       "    </tr>\n",
       "    <tr>\n",
       "      <th>36-40</th>\n",
       "      <th>Female</th>\n",
       "      <td>0.460</td>\n",
       "      <td>50</td>\n",
       "    </tr>\n",
       "    <tr>\n",
       "      <th>All</th>\n",
       "      <th></th>\n",
       "      <td>0.488</td>\n",
       "      <td>590</td>\n",
       "    </tr>\n",
       "    <tr>\n",
       "      <th>46-50</th>\n",
       "      <th>Male</th>\n",
       "      <td>0.500</td>\n",
       "      <td>18</td>\n",
       "    </tr>\n",
       "    <tr>\n",
       "      <th>56 or older</th>\n",
       "      <th>Female</th>\n",
       "      <td>0.511</td>\n",
       "      <td>47</td>\n",
       "    </tr>\n",
       "    <tr>\n",
       "      <th>46-50</th>\n",
       "      <th>Female</th>\n",
       "      <td>0.516</td>\n",
       "      <td>62</td>\n",
       "    </tr>\n",
       "    <tr>\n",
       "      <th>26-30</th>\n",
       "      <th>Female</th>\n",
       "      <td>0.519</td>\n",
       "      <td>52</td>\n",
       "    </tr>\n",
       "    <tr>\n",
       "      <th rowspan=\"2\" valign=\"top\">31-35</th>\n",
       "      <th>Female</th>\n",
       "      <td>0.533</td>\n",
       "      <td>45</td>\n",
       "    </tr>\n",
       "    <tr>\n",
       "      <th>Male</th>\n",
       "      <td>0.533</td>\n",
       "      <td>15</td>\n",
       "    </tr>\n",
       "    <tr>\n",
       "      <th>36-40</th>\n",
       "      <th>Male</th>\n",
       "      <td>0.565</td>\n",
       "      <td>23</td>\n",
       "    </tr>\n",
       "    <tr>\n",
       "      <th>20 or younger</th>\n",
       "      <th>Female</th>\n",
       "      <td>0.571</td>\n",
       "      <td>7</td>\n",
       "    </tr>\n",
       "    <tr>\n",
       "      <th>41-45</th>\n",
       "      <th>Male</th>\n",
       "      <td>0.583</td>\n",
       "      <td>24</td>\n",
       "    </tr>\n",
       "    <tr>\n",
       "      <th>51-55</th>\n",
       "      <th>Male</th>\n",
       "      <td>0.600</td>\n",
       "      <td>25</td>\n",
       "    </tr>\n",
       "    <tr>\n",
       "      <th>26-30</th>\n",
       "      <th>Male</th>\n",
       "      <td>0.600</td>\n",
       "      <td>15</td>\n",
       "    </tr>\n",
       "    <tr>\n",
       "      <th>56 or older</th>\n",
       "      <th>Male</th>\n",
       "      <td>0.607</td>\n",
       "      <td>28</td>\n",
       "    </tr>\n",
       "  </tbody>\n",
       "</table>\n",
       "</div>"
      ],
      "text/plain": [
       "                     fraction_pos          len\n",
       "                     dissatisfied dissatisfied\n",
       "age           gender                          \n",
       "20 or younger Male          0.000            3\n",
       "21-25         Male          0.176           17\n",
       "              Female        0.378           45\n",
       "41-45         Female        0.420           69\n",
       "51-55         Female        0.444           45\n",
       "36-40         Female        0.460           50\n",
       "All                         0.488          590\n",
       "46-50         Male          0.500           18\n",
       "56 or older   Female        0.511           47\n",
       "46-50         Female        0.516           62\n",
       "26-30         Female        0.519           52\n",
       "31-35         Female        0.533           45\n",
       "              Male          0.533           15\n",
       "36-40         Male          0.565           23\n",
       "20 or younger Female        0.571            7\n",
       "41-45         Male          0.583           24\n",
       "51-55         Male          0.600           25\n",
       "26-30         Male          0.600           15\n",
       "56 or older   Male          0.607           28"
      ]
     },
     "execution_count": 117,
     "metadata": {},
     "output_type": "execute_result"
    }
   ],
   "source": [
    "pd.pivot_table(combined, \"dissatisfied\", [\"age\", \"gender\"], aggfunc=[fraction_pos, len], margins=True).sort_values((\"fraction_pos\", \"dissatisfied\"))"
   ]
  },
  {
   "cell_type": "markdown",
   "id": "523ca2c5-e402-448e-85f6-13ef914fb3cb",
   "metadata": {},
   "source": [
    "There are some interesting differences between the genders."
   ]
  },
  {
   "cell_type": "code",
   "execution_count": 119,
   "id": "885b3fd5-cfdc-4073-b647-9a8e070d5925",
   "metadata": {},
   "outputs": [
    {
     "data": {
      "text/plain": [
       "career_move_public_sector       8\n",
       "career_move_private_sector      8\n",
       "interpersonal_conflict          8\n",
       "job_dissatisfaction             8\n",
       "work_environment                0\n",
       "lack_recognition                0\n",
       "maternity_family                8\n",
       "study_travel                    0\n",
       "ill_health                      8\n",
       "work_life_balance               0\n",
       "gender                         59\n",
       "age                            55\n",
       "cease_date_year               351\n",
       "start_date_year               368\n",
       "years_employed                378\n",
       "duration_employment            88\n",
       "dissatisfied                    0\n",
       "institute                       0\n",
       "dtype: int64"
      ]
     },
     "execution_count": 119,
     "metadata": {},
     "output_type": "execute_result"
    }
   ],
   "source": [
    "combined.isnull().sum()"
   ]
  },
  {
   "cell_type": "markdown",
   "id": "2303ac6c-71c7-4936-b163-a90102b52c80",
   "metadata": {},
   "source": [
    "TODO: Identify and deal with missing values."
   ]
  },
  {
   "cell_type": "code",
   "execution_count": null,
   "id": "99a03733-988a-4e84-b305-e2232271f6e2",
   "metadata": {},
   "outputs": [],
   "source": []
  }
 ],
 "metadata": {
  "kernelspec": {
   "display_name": "Python 3 (ipykernel)",
   "language": "python",
   "name": "python3"
  },
  "language_info": {
   "codemirror_mode": {
    "name": "ipython",
    "version": 3
   },
   "file_extension": ".py",
   "mimetype": "text/x-python",
   "name": "python",
   "nbconvert_exporter": "python",
   "pygments_lexer": "ipython3",
   "version": "3.9.13"
  }
 },
 "nbformat": 4,
 "nbformat_minor": 5
}
