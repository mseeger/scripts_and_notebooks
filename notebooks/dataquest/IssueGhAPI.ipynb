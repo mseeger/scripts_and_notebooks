{
 "cells": [
  {
   "cell_type": "code",
   "execution_count": null,
   "id": "bbbe7675-098b-4e3d-9041-f9d0dc06902f",
   "metadata": {},
   "outputs": [],
   "source": [
    "from ghapi.all import GhApi\n",
    "from ghapi.page import paged\n",
    "import os\n",
    "import requests"
   ]
  },
  {
   "cell_type": "code",
   "execution_count": null,
   "id": "f0366ade-9fe2-4222-92e8-d070907e3aac",
   "metadata": {},
   "outputs": [],
   "source": [
    "# GitHub token must be written to env variable GITHUB_TOKEN\n",
    "\n",
    "token = os.environ[\"GITHUB_TOKEN\"]\n",
    "\n",
    "search_term = \"SimulatorBackend\"\n",
    "query = f\"{search_term} in:file repo:awslabs/syne-tune extension:py language:python\""
   ]
  },
  {
   "cell_type": "code",
   "execution_count": null,
   "id": "c82e9682-e88b-406d-8b4c-a6fa83f11cfe",
   "metadata": {},
   "outputs": [],
   "source": [
    "# Get first page only (which should be the only one)\n",
    "headers = {\"Authorization\": f\"token {token}\"}\n",
    "for per_page in [30, 4]:\n",
    "    print(f\"\\nper_page = {per_page}\")\n",
    "    response = requests.get(\n",
    "        \"https://api.github.com/search/code\",\n",
    "        params={'q': query, 'per_page': per_page},\n",
    "        headers=headers,\n",
    "    )\n",
    "    json_data = response.json()\n",
    "    print(f\"total_count = {json_data['total_count']}, num_items = {len(json_data['items'])}\")\n",
    "    links = response.headers.get('Link')\n",
    "    if links is None:\n",
    "        print(\"'Link' not found in response.headers\")\n",
    "    else:\n",
    "        print(f\"links = {links}\")"
   ]
  },
  {
   "cell_type": "code",
   "execution_count": null,
   "id": "89ae0a78-9626-4af8-a45f-aac58bfb9e08",
   "metadata": {},
   "outputs": [],
   "source": [
    "api = GhApi(token=token)\n",
    "\n",
    "# Iterate over pages. This should stop after first page\n",
    "print(\"\\nRetrieving all pages...\")\n",
    "results = paged(api.search.code, q=query)\n",
    "for page in results:\n",
    "    print(f\"total_count = {page['total_count']}\")\n",
    "    items = page.get('items')\n",
    "    if items is None:\n",
    "        print(\"No 'items' in page\")\n",
    "    else:\n",
    "        print(f\"num_items = {len(page['items'])}\")"
   ]
  },
  {
   "cell_type": "code",
   "execution_count": null,
   "id": "7aeffd2f-7daf-45b9-9250-11bc02edf5d6",
   "metadata": {},
   "outputs": [],
   "source": []
  }
 ],
 "metadata": {
  "kernelspec": {
   "display_name": "Python 3 (ipykernel)",
   "language": "python",
   "name": "python3"
  },
  "language_info": {
   "codemirror_mode": {
    "name": "ipython",
    "version": 3
   },
   "file_extension": ".py",
   "mimetype": "text/x-python",
   "name": "python",
   "nbconvert_exporter": "python",
   "pygments_lexer": "ipython3",
   "version": "3.9.6"
  }
 },
 "nbformat": 4,
 "nbformat_minor": 5
}
