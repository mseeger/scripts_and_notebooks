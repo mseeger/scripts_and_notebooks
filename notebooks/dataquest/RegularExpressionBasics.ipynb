{
 "cells": [
  {
   "cell_type": "markdown",
   "id": "c6b6be36-15cc-4bc8-b863-121e6be9d9e7",
   "metadata": {},
   "source": [
    "# Regular Expression Basics\n",
    "\n",
    "Corresponds to DataQuest advanced data cleaning session."
   ]
  },
  {
   "cell_type": "code",
   "execution_count": 2,
   "id": "f1dd77d1-dd45-4e91-9c80-bf0f1334b1ef",
   "metadata": {},
   "outputs": [],
   "source": [
    "%matplotlib inline\n",
    "\n",
    "import pandas as pd\n",
    "import numpy as np\n",
    "import matplotlib.pyplot as plt\n",
    "import matplotlib.style as style\n",
    "import seaborn as sns\n",
    "from pathlib import Path"
   ]
  },
  {
   "cell_type": "code",
   "execution_count": 3,
   "id": "95482710-bac8-4a53-ac24-d218e518067d",
   "metadata": {},
   "outputs": [],
   "source": [
    "data_path = Path.home() / \"datasets\" / \"tabular_practice\"\n",
    "\n",
    "hn = pd.read_csv(data_path / \"hacker_news.csv\")\n",
    "titles = hn[\"title\"]"
   ]
  },
  {
   "cell_type": "markdown",
   "id": "8f04c42b-ce53-4a1e-9faa-a3551c5d0eeb",
   "metadata": {},
   "source": [
    "We'd like to answer these questions:\n",
    "\n",
    "* There is some set of words around \"email\" we'd like to match\n",
    "* How many titles contain at least one match?\n",
    "* Extract all matches from all titles and compute a histogram"
   ]
  },
  {
   "cell_type": "code",
   "execution_count": 5,
   "id": "78da6ab1-8345-48ba-8971-af42f172b970",
   "metadata": {},
   "outputs": [
    {
     "name": "stdout",
     "output_type": "stream",
     "text": [
      "Matches 12 of 12\n"
     ]
    }
   ],
   "source": [
    "import re\n",
    "\n",
    "# We'd like to match all of these variations:\n",
    "email_tests = pd.Series(['email', 'Email', 'e Mail', 'e mail', 'E-mail',\n",
    "              'e-mail', 'eMail', 'E-Mail', 'EMAIL', 'emails', 'Emails',\n",
    "              'E-Mails'])\n",
    "\n",
    "# This regex does the job, together with the re.I flag (ignores case for all letters)\n",
    "pattern = r\"\\be[- ]?mails?\\b\"\n",
    "print(f\"Matches {email_tests.str.contains(pattern, flags=re.I).sum()} of {len(email_tests)}\")"
   ]
  },
  {
   "cell_type": "markdown",
   "id": "f7c74d90-8ce8-453b-abeb-a7f3dbcae561",
   "metadata": {},
   "source": [
    "Explanation:\n",
    "\n",
    "* \"\\b\" is a word boundary anchor: We do not want to match \"email\" and variations as parts of longer words\n",
    "* \"[- ]\" matches \"-\" or \" \"; and \"?\" is a quantifier (0 or 1)\n",
    "* `flags=re.I` means that any letter also matches the other case (so \"e\" matches \"[eE]\"). Note this applies to all letters"
   ]
  },
  {
   "cell_type": "code",
   "execution_count": 7,
   "id": "55fb308a-18d5-4880-9081-1b75d6fc8879",
   "metadata": {},
   "outputs": [
    {
     "name": "stdout",
     "output_type": "stream",
     "text": [
      "Number of titles containing 'email' like words: 141\n"
     ]
    }
   ],
   "source": [
    "email_bool = titles.str.contains(pattern, flags=re.I)\n",
    "print(f\"Number of titles containing 'email' like words: {email_bool.sum()}\")"
   ]
  },
  {
   "cell_type": "code",
   "execution_count": 8,
   "id": "ef5ae113-e43d-4d42-8829-6a46feb789b3",
   "metadata": {},
   "outputs": [
    {
     "data": {
      "text/plain": [
       "120     Show HN: Send an email from your shell to your...\n",
       "162     Computer Specialist Who Deleted Clinton Emails...\n",
       "175                                       Email Apps Suck\n",
       "262     Emails Show Unqualified Clinton Foundation Don...\n",
       "314         Disposable emails for safe spam free shopping\n",
       "333                          Inky: Secure Email Made Easy\n",
       "1362    Ask HN: Doing cold emails? helps us prove this...\n",
       "1751    Protect yourself from spam, bots and phishing ...\n",
       "1775    From Email Introductions to Addressing Diversi...\n",
       "1901    Police Emails About Ahmed Mohamed: 'This Is Wh...\n",
       "1957                  Email newsletters are the new zines\n",
       "2019    Emails from a CEO Who Just Has a Few Changes t...\n",
       "2422                   Ashley Madison hack treating email\n",
       "2686         Ask HN: Weather forecast in your email daily\n",
       "3182    Validating Email Addresses with a Regex? Do Yo...\n",
       "3380           Ask HN: How do we solve the email problem?\n",
       "3562    Yale Students Demand Resignations from Faculty...\n",
       "3603    Show HN: Simple Responsive HTML Email Template...\n",
       "3821    Show HN: Weebly 4  Websites, eCommerce and Ema...\n",
       "3866    What Mailchimp does to make sure emails get de...\n",
       "Name: title, dtype: object"
      ]
     },
     "execution_count": 8,
     "metadata": {},
     "output_type": "execute_result"
    }
   ],
   "source": [
    "titles[email_bool].head(20)"
   ]
  },
  {
   "cell_type": "markdown",
   "id": "2fc219c3-888c-46c9-8c64-277ff9b0bd63",
   "metadata": {},
   "source": [
    "We can use `str.extract` along with a caption block in order to extract the first matched string. However, in order to extract several matches, we need to use `str.extractall`."
   ]
  },
  {
   "cell_type": "code",
   "execution_count": 10,
   "id": "cc13ff80-3bd4-4d5e-b003-b8eb6c7e9e63",
   "metadata": {},
   "outputs": [
    {
     "data": {
      "text/html": [
       "<div>\n",
       "<style scoped>\n",
       "    .dataframe tbody tr th:only-of-type {\n",
       "        vertical-align: middle;\n",
       "    }\n",
       "\n",
       "    .dataframe tbody tr th {\n",
       "        vertical-align: top;\n",
       "    }\n",
       "\n",
       "    .dataframe thead th {\n",
       "        text-align: right;\n",
       "    }\n",
       "</style>\n",
       "<table border=\"1\" class=\"dataframe\">\n",
       "  <thead>\n",
       "    <tr style=\"text-align: right;\">\n",
       "      <th></th>\n",
       "      <th></th>\n",
       "      <th>0</th>\n",
       "    </tr>\n",
       "    <tr>\n",
       "      <th></th>\n",
       "      <th>match</th>\n",
       "      <th></th>\n",
       "    </tr>\n",
       "  </thead>\n",
       "  <tbody>\n",
       "    <tr>\n",
       "      <th>120</th>\n",
       "      <th>0</th>\n",
       "      <td>email</td>\n",
       "    </tr>\n",
       "    <tr>\n",
       "      <th>162</th>\n",
       "      <th>0</th>\n",
       "      <td>Emails</td>\n",
       "    </tr>\n",
       "    <tr>\n",
       "      <th>175</th>\n",
       "      <th>0</th>\n",
       "      <td>Email</td>\n",
       "    </tr>\n",
       "    <tr>\n",
       "      <th>262</th>\n",
       "      <th>0</th>\n",
       "      <td>Emails</td>\n",
       "    </tr>\n",
       "    <tr>\n",
       "      <th>314</th>\n",
       "      <th>0</th>\n",
       "      <td>emails</td>\n",
       "    </tr>\n",
       "    <tr>\n",
       "      <th>333</th>\n",
       "      <th>0</th>\n",
       "      <td>Email</td>\n",
       "    </tr>\n",
       "    <tr>\n",
       "      <th>1362</th>\n",
       "      <th>0</th>\n",
       "      <td>emails</td>\n",
       "    </tr>\n",
       "    <tr>\n",
       "      <th>1751</th>\n",
       "      <th>0</th>\n",
       "      <td>email</td>\n",
       "    </tr>\n",
       "    <tr>\n",
       "      <th>1775</th>\n",
       "      <th>0</th>\n",
       "      <td>Email</td>\n",
       "    </tr>\n",
       "    <tr>\n",
       "      <th>1901</th>\n",
       "      <th>0</th>\n",
       "      <td>Emails</td>\n",
       "    </tr>\n",
       "    <tr>\n",
       "      <th>1957</th>\n",
       "      <th>0</th>\n",
       "      <td>Email</td>\n",
       "    </tr>\n",
       "    <tr>\n",
       "      <th>2019</th>\n",
       "      <th>0</th>\n",
       "      <td>Emails</td>\n",
       "    </tr>\n",
       "    <tr>\n",
       "      <th>2422</th>\n",
       "      <th>0</th>\n",
       "      <td>email</td>\n",
       "    </tr>\n",
       "    <tr>\n",
       "      <th>2686</th>\n",
       "      <th>0</th>\n",
       "      <td>email</td>\n",
       "    </tr>\n",
       "    <tr>\n",
       "      <th>3182</th>\n",
       "      <th>0</th>\n",
       "      <td>Email</td>\n",
       "    </tr>\n",
       "    <tr>\n",
       "      <th>3380</th>\n",
       "      <th>0</th>\n",
       "      <td>email</td>\n",
       "    </tr>\n",
       "    <tr>\n",
       "      <th>3562</th>\n",
       "      <th>0</th>\n",
       "      <td>Email</td>\n",
       "    </tr>\n",
       "    <tr>\n",
       "      <th>3603</th>\n",
       "      <th>0</th>\n",
       "      <td>Email</td>\n",
       "    </tr>\n",
       "    <tr>\n",
       "      <th>3821</th>\n",
       "      <th>0</th>\n",
       "      <td>Email</td>\n",
       "    </tr>\n",
       "    <tr>\n",
       "      <th>3866</th>\n",
       "      <th>0</th>\n",
       "      <td>emails</td>\n",
       "    </tr>\n",
       "    <tr>\n",
       "      <th>3890</th>\n",
       "      <th>0</th>\n",
       "      <td>emails</td>\n",
       "    </tr>\n",
       "    <tr>\n",
       "      <th>3922</th>\n",
       "      <th>0</th>\n",
       "      <td>email</td>\n",
       "    </tr>\n",
       "    <tr>\n",
       "      <th>3968</th>\n",
       "      <th>0</th>\n",
       "      <td>Emails</td>\n",
       "    </tr>\n",
       "    <tr>\n",
       "      <th>4203</th>\n",
       "      <th>0</th>\n",
       "      <td>Emails</td>\n",
       "    </tr>\n",
       "    <tr>\n",
       "      <th>4220</th>\n",
       "      <th>0</th>\n",
       "      <td>email</td>\n",
       "    </tr>\n",
       "    <tr>\n",
       "      <th>4319</th>\n",
       "      <th>0</th>\n",
       "      <td>email</td>\n",
       "    </tr>\n",
       "    <tr>\n",
       "      <th rowspan=\"2\" valign=\"top\">4323</th>\n",
       "      <th>0</th>\n",
       "      <td>email</td>\n",
       "    </tr>\n",
       "    <tr>\n",
       "      <th>1</th>\n",
       "      <td>emails</td>\n",
       "    </tr>\n",
       "    <tr>\n",
       "      <th>4578</th>\n",
       "      <th>0</th>\n",
       "      <td>email</td>\n",
       "    </tr>\n",
       "    <tr>\n",
       "      <th>4838</th>\n",
       "      <th>0</th>\n",
       "      <td>emails</td>\n",
       "    </tr>\n",
       "    <tr>\n",
       "      <th>4846</th>\n",
       "      <th>0</th>\n",
       "      <td>Email</td>\n",
       "    </tr>\n",
       "    <tr>\n",
       "      <th>4902</th>\n",
       "      <th>0</th>\n",
       "      <td>emails</td>\n",
       "    </tr>\n",
       "    <tr>\n",
       "      <th>5027</th>\n",
       "      <th>0</th>\n",
       "      <td>Email</td>\n",
       "    </tr>\n",
       "    <tr>\n",
       "      <th>5315</th>\n",
       "      <th>0</th>\n",
       "      <td>email</td>\n",
       "    </tr>\n",
       "    <tr>\n",
       "      <th>5543</th>\n",
       "      <th>0</th>\n",
       "      <td>Email</td>\n",
       "    </tr>\n",
       "    <tr>\n",
       "      <th>5783</th>\n",
       "      <th>0</th>\n",
       "      <td>email</td>\n",
       "    </tr>\n",
       "    <tr>\n",
       "      <th>5962</th>\n",
       "      <th>0</th>\n",
       "      <td>email</td>\n",
       "    </tr>\n",
       "    <tr>\n",
       "      <th rowspan=\"2\" valign=\"top\">6019</th>\n",
       "      <th>0</th>\n",
       "      <td>emails</td>\n",
       "    </tr>\n",
       "    <tr>\n",
       "      <th>1</th>\n",
       "      <td>email</td>\n",
       "    </tr>\n",
       "    <tr>\n",
       "      <th>6102</th>\n",
       "      <th>0</th>\n",
       "      <td>emails</td>\n",
       "    </tr>\n",
       "  </tbody>\n",
       "</table>\n",
       "</div>"
      ],
      "text/plain": [
       "                 0\n",
       "     match        \n",
       "120  0       email\n",
       "162  0      Emails\n",
       "175  0       Email\n",
       "262  0      Emails\n",
       "314  0      emails\n",
       "333  0       Email\n",
       "1362 0      emails\n",
       "1751 0       email\n",
       "1775 0       Email\n",
       "1901 0      Emails\n",
       "1957 0       Email\n",
       "2019 0      Emails\n",
       "2422 0       email\n",
       "2686 0       email\n",
       "3182 0       Email\n",
       "3380 0       email\n",
       "3562 0       Email\n",
       "3603 0       Email\n",
       "3821 0       Email\n",
       "3866 0      emails\n",
       "3890 0      emails\n",
       "3922 0       email\n",
       "3968 0      Emails\n",
       "4203 0      Emails\n",
       "4220 0       email\n",
       "4319 0       email\n",
       "4323 0       email\n",
       "     1      emails\n",
       "4578 0       email\n",
       "4838 0      emails\n",
       "4846 0       Email\n",
       "4902 0      emails\n",
       "5027 0       Email\n",
       "5315 0       email\n",
       "5543 0       Email\n",
       "5783 0       email\n",
       "5962 0       email\n",
       "6019 0      emails\n",
       "     1       email\n",
       "6102 0      emails"
      ]
     },
     "execution_count": 10,
     "metadata": {},
     "output_type": "execute_result"
    }
   ],
   "source": [
    "pattern_caption = r\"\\b(e[- ]?mails?)\\b\"\n",
    "all_matches = titles.str.extractall(pattern_caption, flags=re.I)\n",
    "all_matches.head(40)"
   ]
  },
  {
   "cell_type": "code",
   "execution_count": 11,
   "id": "39d1c710-4ce1-4be0-b98f-c6617838297e",
   "metadata": {},
   "outputs": [
    {
     "data": {
      "text/plain": [
       "<Axes: ylabel='0'>"
      ]
     },
     "execution_count": 11,
     "metadata": {},
     "output_type": "execute_result"
    },
    {
     "data": {
      "image/png": "[encoded data removed]",
      "text/plain": [
       "<Figure size 640x480 with 1 Axes>"
      ]
     },
     "metadata": {},
     "output_type": "display_data"
    }
   ],
   "source": [
    "# Histogram over different numbers of variations\n",
    "\n",
    "all_matches.value_counts().plot(kind=\"barh\")"
   ]
  },
  {
   "cell_type": "markdown",
   "id": "a515a033-9e7d-49f1-90c1-c3a361e8d6a0",
   "metadata": {},
   "source": [
    "Lookaheads are a useful advanced feature:\n",
    "\n",
    "* `zzz(?=abc)` matches \"zzz\" only if followed by \"abc\"\n",
    "* `zzz(?!abc)` matches \"zzz\" only if not followed by \"abc\"\n",
    "* `(?<=abc)zzz` matches \"zzz\" only if preceeded by \"abc\"\n",
    "* `(?<!abc)zzz` matches \"zzz\" only if not preceeded by \"abc\"\n",
    "\n",
    "Here, \"abc\" and \"zzz\" can be arbitrary regex's."
   ]
  },
  {
   "cell_type": "markdown",
   "id": "fd514648-0ee7-473d-be9c-8eb5529ffafd",
   "metadata": {},
   "source": [
    "Say, we'd like to match all mentions of the C programming language in the titles."
   ]
  },
  {
   "cell_type": "code",
   "execution_count": 13,
   "id": "0ea2baf5-9003-497f-8b64-dbc60c99f60a",
   "metadata": {},
   "outputs": [
    {
     "data": {
      "text/plain": [
       "14                 Custom Deleters for C++ Smart Pointers\n",
       "221                        Lisp, C++: Sadness in my heart\n",
       "222                  MemSQL (YC W11) Raises $36M Series C\n",
       "354     VW C.E.O. Personally Apologized to President O...\n",
       "366                      The new C standards are worth it\n",
       "445           Moz raises $10m Series C from Foundry Group\n",
       "509     BDE 3.0 (Bloomberg's core C++ library): Open S...\n",
       "522          Fuchsia: Micro kernel written in C by Google\n",
       "550     How to Become a C.E.O.? The Quickest Path Is a...\n",
       "1283    A lightweight C++ signals and slots implementa...\n",
       "1308            Show HN: Yupp, yet another C preprocessor\n",
       "1327                     The C standard formalized in Coq\n",
       "1366                          GNU C Library 2.23 released\n",
       "1430    Cysignals: signal handling (SIGINT, SIGSEGV, )...\n",
       "1501                        Fun with Lambdas: C++14 Style\n",
       "1621                        SDCC  Small Device C Compiler\n",
       "1673      C++ Coroutines  a negative overhead abstraction\n",
       "1950    Rewriting a Ruby C Extension in Rust: How a Na...\n",
       "2031        Felix: A compiled (to C++) scripting language\n",
       "2196    MyHTML  HTML Parser on Pure C with POSIX Threa...\n",
       "2307    Websocket Shootout: Clojure, C++, Elixir, Go, ...\n",
       "2528                            A Rebuttle of the C++ FQA\n",
       "2540    ZypMedia Is Hiring Lead Engineer for Low Laten...\n",
       "2555    Face Swap (C++ / Python): Meet Ted Trump, Dona...\n",
       "2590    Phalcon  PHP framework delivered as a C extension\n",
       "2637                       Simple Contracts for C++ [pdf]\n",
       "3098               A Superconductor That Works at -70 Â°C\n",
       "3101      Building a BitTorrent client from scratch in C#\n",
       "3188    ImGui: Immediate Mode GUI for C++ with minimal...\n",
       "3241    C++ for Games: Performance, Allocations and Da...\n",
       "3251             Transactional Memory Support for C [pdf]\n",
       "3277                     Programming the Blockchain in C#\n",
       "3337              How C# beats Scala in async programming\n",
       "3535              Ask HN: Best way to learn 'modern' C++?\n",
       "3627    Learning how to write a 3D engine from scratch...\n",
       "3781    Norman C. Pickering, Who Refined the Record Pl...\n",
       "3795    Quotes from Jean-Paul Sartres Programming in A...\n",
       "3955                                My Tough Love for C++\n",
       "4046    Kitten: compile to C, stack-based functional p...\n",
       "4073                               Why I Write Games in C\n",
       "Name: title, dtype: object"
      ]
     },
     "execution_count": 13,
     "metadata": {},
     "output_type": "execute_result"
    }
   ],
   "source": [
    "# First attempt\n",
    "pattern = r\"\\b[cC]\\b\"\n",
    "titles[titles.str.contains(pattern)].head(40)"
   ]
  },
  {
   "cell_type": "markdown",
   "id": "b3248905-9467-40a7-a57f-99b82808a71d",
   "metadata": {},
   "source": [
    "There are some problems:\n",
    "\n",
    "* Matches \"C++\" and \"C#\", different languages\n",
    "* Matches \"C.E.O\"\n",
    "* Matches \"Series C\""
   ]
  },
  {
   "cell_type": "code",
   "execution_count": 15,
   "id": "977c6681-7d50-45f2-93cd-1822c963ba3b",
   "metadata": {},
   "outputs": [
    {
     "data": {
      "text/plain": [
       "366                       The new C standards are worth it\n",
       "445            Moz raises $10m Series C from Foundry Group\n",
       "522           Fuchsia: Micro kernel written in C by Google\n",
       "1308             Show HN: Yupp, yet another C preprocessor\n",
       "1327                      The C standard formalized in Coq\n",
       "1366                           GNU C Library 2.23 released\n",
       "1430     Cysignals: signal handling (SIGINT, SIGSEGV, )...\n",
       "1621                         SDCC  Small Device C Compiler\n",
       "1950     Rewriting a Ruby C Extension in Rust: How a Na...\n",
       "2196     MyHTML  HTML Parser on Pure C with POSIX Threa...\n",
       "2590     Phalcon  PHP framework delivered as a C extension\n",
       "3251              Transactional Memory Support for C [pdf]\n",
       "4046     Kitten: compile to C, stack-based functional p...\n",
       "4296                  C strings with implicit length field\n",
       "4577     Ask HN: Which linux/unix C++/C IDE are you using?\n",
       "4755            Amazon bans the sale of rogue USB-C cables\n",
       "5260     Incorporating and accessing binary data into a...\n",
       "5493         Scalable C  Writing Large-Scale Distributed C\n",
       "6173                       Bad USB-C cable destroys laptop\n",
       "6207            The Lost Art of C Structure Packing (2014)\n",
       "6464     Code Blocks: open-source, cross-platform, free...\n",
       "6760     Performance Improvements in C Code Using Micro...\n",
       "7186     Apple rejects the Binding of Isaac: Rebirth b/...\n",
       "7256     Why C Students Are More Successful After Gradu...\n",
       "8002                C/C++ Extension for Visual Studio Code\n",
       "8188     Rust conversion of Pinterest C program results...\n",
       "8621         Little: a tcl-based c-like scripting language\n",
       "8884     Free C Programming Course from Aalto Universit...\n",
       "9013                  C pointers are not hardware pointers\n",
       "9316     Apple's Federighi talks open source Swift, Obj...\n",
       "9364                           clib  C Package Manager-ish\n",
       "9709      Make the most of the C/C++ static analysis tools\n",
       "9788     Ask HN: Assume the universe is a simulation. W...\n",
       "9839     A short introduction to the MVVM-C design pattern\n",
       "10365           Talking to C Programmers about C++ [video]\n",
       "10378                 When Haskell is Faster than C (2013)\n",
       "10807                                  Amplifying C (2010)\n",
       "10980    Show HN: Tiny C runtime Linux (rt0), HelloWorl...\n",
       "11587     Corrode: C to Rust translator written in Haskell\n",
       "11597     How I wrote a self-hosting C compiler in 40 days\n",
       "Name: title, dtype: object"
      ]
     },
     "execution_count": 15,
     "metadata": {},
     "output_type": "execute_result"
    }
   ],
   "source": [
    "# Second attempt\n",
    "pattern = r\"\\b[cC]\\b[^.+#]\"\n",
    "titles[titles.str.contains(pattern)].head(40)"
   ]
  },
  {
   "cell_type": "code",
   "execution_count": 19,
   "id": "1249b2bc-3141-4dff-b8b9-520998e15c2a",
   "metadata": {},
   "outputs": [
    {
     "data": {
      "text/plain": [
       "445    Moz raises $10m Series C from Foundry Group\n",
       "Name: title, dtype: object"
      ]
     },
     "execution_count": 19,
     "metadata": {},
     "output_type": "execute_result"
    }
   ],
   "source": [
    "# Series C is still matched\n",
    "filt_titles = titles[titles.str.contains(pattern)]\n",
    "filt_titles[filt_titles.str.contains(\"Series C\")]"
   ]
  },
  {
   "cell_type": "code",
   "execution_count": 26,
   "id": "e9ee1f54-8cb3-40c0-b140-b68c78103465",
   "metadata": {},
   "outputs": [
    {
     "name": "stdout",
     "output_type": "stream",
     "text": [
      "None\n"
     ]
    }
   ],
   "source": [
    "# Also, we'd miss \"C.\" at the end of a sentence\n",
    "print(re.search(pattern, \"My favourite language is C.\"))"
   ]
  },
  {
   "cell_type": "code",
   "execution_count": 30,
   "id": "ea6d7178-61b4-4db9-a916-77c63052aefa",
   "metadata": {},
   "outputs": [
    {
     "name": "stderr",
     "output_type": "stream",
     "text": [
      "/var/folders/kj/trnztfjn67j9by8wztm_6y8m0000gn/T/ipykernel_29984/436801729.py:3: UserWarning: This pattern is interpreted as a regular expression, and has match groups. To actually get the groups, use str.extract.\n",
      "  titles[titles.str.contains(pattern)].head(40)\n"
     ]
    },
    {
     "data": {
      "text/plain": [
       "366                      The new C standards are worth it\n",
       "522          Fuchsia: Micro kernel written in C by Google\n",
       "1308            Show HN: Yupp, yet another C preprocessor\n",
       "1327                     The C standard formalized in Coq\n",
       "1366                          GNU C Library 2.23 released\n",
       "1430    Cysignals: signal handling (SIGINT, SIGSEGV, )...\n",
       "1621                        SDCC  Small Device C Compiler\n",
       "1950    Rewriting a Ruby C Extension in Rust: How a Na...\n",
       "2196    MyHTML  HTML Parser on Pure C with POSIX Threa...\n",
       "2590    Phalcon  PHP framework delivered as a C extension\n",
       "3098               A Superconductor That Works at -70 Â°C\n",
       "3251             Transactional Memory Support for C [pdf]\n",
       "3795    Quotes from Jean-Paul Sartres Programming in A...\n",
       "4046    Kitten: compile to C, stack-based functional p...\n",
       "4073                               Why I Write Games in C\n",
       "4296                 C strings with implicit length field\n",
       "4577    Ask HN: Which linux/unix C++/C IDE are you using?\n",
       "4755           Amazon bans the sale of rogue USB-C cables\n",
       "5260    Incorporating and accessing binary data into a...\n",
       "5493        Scalable C  Writing Large-Scale Distributed C\n",
       "6173                      Bad USB-C cable destroys laptop\n",
       "6207           The Lost Art of C Structure Packing (2014)\n",
       "6464    Code Blocks: open-source, cross-platform, free...\n",
       "6760    Performance Improvements in C Code Using Micro...\n",
       "7168                                            Checked C\n",
       "7186    Apple rejects the Binding of Isaac: Rebirth b/...\n",
       "7256    Why C Students Are More Successful After Gradu...\n",
       "7648    Concurrency kit  Concurrency primitives and no...\n",
       "8002               C/C++ Extension for Visual Studio Code\n",
       "8188    Rust conversion of Pinterest C program results...\n",
       "8572    Tis-interpreter  find subtle bugs in programs ...\n",
       "8621        Little: a tcl-based c-like scripting language\n",
       "8884    Free C Programming Course from Aalto Universit...\n",
       "9013                 C pointers are not hardware pointers\n",
       "9316    Apple's Federighi talks open source Swift, Obj...\n",
       "9364                          clib  C Package Manager-ish\n",
       "9709     Make the most of the C/C++ static analysis tools\n",
       "9788    Ask HN: Assume the universe is a simulation. W...\n",
       "9837    The Absolutely True Story of a Real Programmer...\n",
       "9839    A short introduction to the MVVM-C design pattern\n",
       "Name: title, dtype: object"
      ]
     },
     "execution_count": 30,
     "metadata": {},
     "output_type": "execute_result"
    }
   ],
   "source": [
    "# Third attempt, using lookaheads\n",
    "pattern = r\"(?<!Series )\\b[Cc]\\b((?![+.#])|\\.$)\"\n",
    "titles[titles.str.contains(pattern)].head(40)"
   ]
  },
  {
   "cell_type": "markdown",
   "id": "2044c94a-ebcd-4cdd-968e-3ce9ca509e34",
   "metadata": {},
   "source": [
    "**Note**: For a positive lookahead, the match does not include the string matched to the lookahead. We could get the same effect by using a match group on the main expression."
   ]
  },
  {
   "cell_type": "markdown",
   "id": "bad44873-b67a-442b-9824-dfa8bb3ea9eb",
   "metadata": {},
   "source": [
    "With a backreference, we can refer to the string matched by an earlier capture group, by using `\\1`, `\\2`, ..."
   ]
  },
  {
   "cell_type": "code",
   "execution_count": 31,
   "id": "ef49e809-fe7c-41b4-b868-75904d974773",
   "metadata": {},
   "outputs": [
    {
     "name": "stderr",
     "output_type": "stream",
     "text": [
      "/var/folders/kj/trnztfjn67j9by8wztm_6y8m0000gn/T/ipykernel_29984/310214743.py:3: UserWarning: This pattern is interpreted as a regular expression, and has match groups. To actually get the groups, use str.extract.\n",
      "  titles[titles.str.contains(pattern)]\n"
     ]
    },
    {
     "data": {
      "text/plain": [
       "3103                  Silicon Valley Has a Problem Problem\n",
       "3177                Wire Wire: A West African Cyber Threat\n",
       "3179                         Flexbox Cheatsheet Cheatsheet\n",
       "4798                            The Mindset Mindset (2015)\n",
       "7277     Valentine's Day Special: Bye Bye Tinder, Flirt...\n",
       "10372    Mcdonalds copying cyriak  cows cows cows in th...\n",
       "11576                                    Bang Bang Control\n",
       "11902          Cordless Telephones: Bye Bye Privacy (1991)\n",
       "12698          Solving the the Monty-Hall-Problem in Swift\n",
       "15050    Bye Bye Webrtc2SIP: WebRTC with Asterisk and A...\n",
       "15840          Intellij-Rust Rust Plugin for IntelliJ IDEA\n",
       "Name: title, dtype: object"
      ]
     },
     "execution_count": 31,
     "metadata": {},
     "output_type": "execute_result"
    }
   ],
   "source": [
    "# Match titles with repeated words\n",
    "pattern = r\"\\b([\\w]+)\\b \\1\\b\"\n",
    "titles[titles.str.contains(pattern)]"
   ]
  },
  {
   "cell_type": "code",
   "execution_count": null,
   "id": "895ec9de-51bb-430e-bb87-915bf169397a",
   "metadata": {},
   "outputs": [],
   "source": []
  }
 ],
 "metadata": {
  "kernelspec": {
   "display_name": "Python 3 (ipykernel)",
   "language": "python",
   "name": "python3"
  },
  "language_info": {
   "codemirror_mode": {
    "name": "ipython",
    "version": 3
   },
   "file_extension": ".py",
   "mimetype": "text/x-python",
   "name": "python",
   "nbconvert_exporter": "python",
   "pygments_lexer": "ipython3",
   "version": "3.9.13"
  }
 },
 "nbformat": 4,
 "nbformat_minor": 5
}
