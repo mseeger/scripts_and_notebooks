{
 "cells": [
  {
   "cell_type": "markdown",
   "id": "794f9ab5-a491-4f31-9b65-c246a33f4998",
   "metadata": {},
   "source": [
    "# Scaping Data from the Web\n",
    "\n",
    "Corresponds to a DataQuest course. We'll use `requests` to download a web page, and `beautifulsoup` to navigate its content."
   ]
  },
  {
   "cell_type": "code",
   "execution_count": 2,
   "id": "0f08354f-b0c7-49f2-88f3-fcb26f561dda",
   "metadata": {},
   "outputs": [],
   "source": [
    "import requests\n",
    "from bs4 import BeautifulSoup"
   ]
  },
  {
   "cell_type": "markdown",
   "id": "08e1c24c-6fa3-4935-be41-79f9af426c7b",
   "metadata": {},
   "source": [
    "Let us download the HTML code for a simple page. This is done by `requests.get`"
   ]
  },
  {
   "cell_type": "code",
   "execution_count": 6,
   "id": "74c833ac-8601-4cf0-b576-dea0a3bf8c32",
   "metadata": {},
   "outputs": [
    {
     "name": "stdout",
     "output_type": "stream",
     "text": [
      "status_code = 200\n",
      "\n",
      "<!DOCTYPE html>\n",
      "<html>\n",
      "    <head>\n",
      "        <title>A simple example page</title>\n",
      "    </head>\n",
      "    <body>\n",
      "        <p>Here is some simple content for this page.</p>\n",
      "    </body>\n",
      "</html>\n"
     ]
    }
   ],
   "source": [
    "response = requests.get(\"http://dataquestio.github.io/web-scraping-pages/simple.html\")\n",
    "print(f\"status_code = {response.status_code}\\n\")\n",
    "print(response.content.decode(\"utf-8\"))"
   ]
  },
  {
   "cell_type": "markdown",
   "id": "a7d194dc-9885-452f-bb8d-5f61bc5c763e",
   "metadata": {},
   "source": [
    "Basics about HTML are provided in this [MDN guide](https://developer.mozilla.org/en-US/docs/Learn/HTML)."
   ]
  },
  {
   "cell_type": "markdown",
   "id": "3723d6a0-d81a-45d0-80e6-7c1a5961df7e",
   "metadata": {},
   "source": [
    "We can now use `beautifulsoup` in order to navigate the nested structure of the page, and to search for content corresponding to certain tags. The nested tag structure of a page can be viewed as a tree, which is how `beautifulsoup` represents it:\n",
    "\n",
    "* Root `html`: Children `head`, `body`\n",
    "* Node `head`: Child `title`\n",
    "* Node `body`: Child `p`"
   ]
  },
  {
   "cell_type": "code",
   "execution_count": 8,
   "id": "388a109c-b950-4861-b2a4-77ad4fb5df15",
   "metadata": {},
   "outputs": [
    {
     "name": "stdout",
     "output_type": "stream",
     "text": [
      "A simple example page\n"
     ]
    }
   ],
   "source": [
    "parser = BeautifulSoup(response.content, 'html.parser')\n",
    "head = parser.head\n",
    "title = head.title\n",
    "print(title.text)"
   ]
  },
  {
   "cell_type": "markdown",
   "id": "b51db6ea-3971-41a7-bd27-824886601ea4",
   "metadata": {},
   "source": [
    "`find_all` finds all occurences of a tag in some element (which can be the whole page, or a subtree) and returns them as a list."
   ]
  },
  {
   "cell_type": "code",
   "execution_count": 10,
   "id": "fba15cac-2601-45b9-8000-88e73a32e38c",
   "metadata": {},
   "outputs": [
    {
     "name": "stdout",
     "output_type": "stream",
     "text": [
      "Here is some simple content for this page.\n"
     ]
    }
   ],
   "source": [
    "content = response.content\n",
    "parser = BeautifulSoup(content, 'html.parser')\n",
    "\n",
    "# Get a list of all occurrences of the body tag in the element.\n",
    "body = parser.find_all(\"body\")\n",
    "\n",
    "# Get the paragraph tag.\n",
    "p = body[0].find_all(\"p\")\n",
    "\n",
    "# Get the text.\n",
    "print(p[0].text)"
   ]
  },
  {
   "cell_type": "markdown",
   "id": "e392d2d7-67e5-4d40-9a77-8be961c6699c",
   "metadata": {},
   "source": [
    "Tags can have an `id` attribute with a unique value. We can use `find_all` to find only tags with a certain `id`. For example: `parser.find_all(\"p\", id=\"first\")`."
   ]
  },
  {
   "cell_type": "markdown",
   "id": "be16e1e2-1483-4225-a5e4-66aadd46cd3f",
   "metadata": {},
   "source": [
    "Tags can also have a `class` attribute, whose value is not unique. This modified the tag content in a certain way, for example formats it. We can use `find_all` to find only tags with a certain `class`. For example: `parser.find_all(\"p\", class_=\"inner_text\")`. Note it is `class_`."
   ]
  },
  {
   "cell_type": "markdown",
   "id": "a868c762-f414-4d26-a3a7-60d6bf36cd23",
   "metadata": {},
   "source": [
    "## CSS Selectors\n",
    "\n",
    "Cascading Style Sheets, or CSS, is a language for adding styles to HTML pages. You may have noticed that our simple HTML pages from the past few screens didn't have any styling (all of the paragraphs had black text and the same font size). Most Web pages use CSS to display a lot more than basic black text.\n",
    "\n",
    "CSS uses selectors to add styles to the elements and classes of elements you specify. You can use selectors to add background colors, text colors, borders, padding, and many other style choices to the elements on HTML pages.\n",
    "\n",
    "This lesson doesn't include an in-depth lesson on CSS. If you'd like to learn more about CSS, [MDN's guide](https://developer.mozilla.org/en-US/docs/Learn/CSS) is a great place to start.\n",
    "\n",
    "A CSS selector applies a certain formatting style to tags with certain `class` or `id` attributes.\n",
    "\n",
    "This CSS will make the text inside all paragraphs red:\n",
    "\n",
    "```\n",
    "p{\n",
    "    color: red\n",
    " }\n",
    "```\n",
    "\n",
    "This CSS will change the text color to red for any paragraphs that have the class inner-text. We select classes with the period or dot symbol (.):\n",
    "\n",
    "```\n",
    "p.inner-text{\n",
    "    color: red\n",
    " }\n",
    "```\n",
    "\n",
    "This CSS will change the text color to red for any paragraphs that have the ID first. We select IDs with the pound or hash symbol (#):\n",
    "\n",
    "```\n",
    "p#first{\n",
    "    color: red\n",
    " }\n",
    "```\n",
    "\n",
    "You can also style IDs and classes without using any specific tags. For example, this CSS will make the element with the ID first red (not just paragraphs):\n",
    "\n",
    "```\n",
    "#first{\n",
    "    color: red\n",
    " }\n",
    "```\n",
    "\n",
    "This CSS will make any element with the class inner-text red:\n",
    "\n",
    "```\n",
    ".inner-text{\n",
    "    color: red\n",
    " }\n",
    "```\n",
    "\n",
    "We can use CSS selectors to select elements in `beautifulsoup` as well."
   ]
  },
  {
   "cell_type": "code",
   "execution_count": null,
   "id": "3c9a4173-2b9a-4c8b-a26b-8e170c3b1c5a",
   "metadata": {},
   "outputs": [],
   "source": []
  }
 ],
 "metadata": {
  "kernelspec": {
   "display_name": "Python 3 (ipykernel)",
   "language": "python",
   "name": "python3"
  },
  "language_info": {
   "codemirror_mode": {
    "name": "ipython",
    "version": 3
   },
   "file_extension": ".py",
   "mimetype": "text/x-python",
   "name": "python",
   "nbconvert_exporter": "python",
   "pygments_lexer": "ipython3",
   "version": "3.9.13"
  }
 },
 "nbformat": 4,
 "nbformat_minor": 5
}
